{
 "cells": [
  {
   "cell_type": "code",
   "execution_count": 1,
   "metadata": {},
   "outputs": [],
   "source": [
    "import numpy as np\n",
    "import pandas as pd\n",
    "import matplotlib.pyplot as plt\n",
    "import seaborn as sns"
   ]
  },
  {
   "cell_type": "code",
   "execution_count": 2,
   "metadata": {},
   "outputs": [
    {
     "data": {
      "text/html": [
       "<div>\n",
       "<style scoped>\n",
       "    .dataframe tbody tr th:only-of-type {\n",
       "        vertical-align: middle;\n",
       "    }\n",
       "\n",
       "    .dataframe tbody tr th {\n",
       "        vertical-align: top;\n",
       "    }\n",
       "\n",
       "    .dataframe thead th {\n",
       "        text-align: right;\n",
       "    }\n",
       "</style>\n",
       "<table border=\"1\" class=\"dataframe\">\n",
       "  <thead>\n",
       "    <tr style=\"text-align: right;\">\n",
       "      <th></th>\n",
       "      <th>country</th>\n",
       "      <th>year_survey</th>\n",
       "      <th>quantile</th>\n",
       "      <th>nb_quantiles</th>\n",
       "      <th>income</th>\n",
       "      <th>gdpppp</th>\n",
       "    </tr>\n",
       "  </thead>\n",
       "  <tbody>\n",
       "    <tr>\n",
       "      <th>0</th>\n",
       "      <td>ALB</td>\n",
       "      <td>2008</td>\n",
       "      <td>1</td>\n",
       "      <td>100</td>\n",
       "      <td>728,89795</td>\n",
       "      <td>7297</td>\n",
       "    </tr>\n",
       "    <tr>\n",
       "      <th>1</th>\n",
       "      <td>ALB</td>\n",
       "      <td>2008</td>\n",
       "      <td>2</td>\n",
       "      <td>100</td>\n",
       "      <td>916,66235</td>\n",
       "      <td>7297</td>\n",
       "    </tr>\n",
       "    <tr>\n",
       "      <th>2</th>\n",
       "      <td>ALB</td>\n",
       "      <td>2008</td>\n",
       "      <td>3</td>\n",
       "      <td>100</td>\n",
       "      <td>1010,916</td>\n",
       "      <td>7297</td>\n",
       "    </tr>\n",
       "    <tr>\n",
       "      <th>3</th>\n",
       "      <td>ALB</td>\n",
       "      <td>2008</td>\n",
       "      <td>4</td>\n",
       "      <td>100</td>\n",
       "      <td>1086,9078</td>\n",
       "      <td>7297</td>\n",
       "    </tr>\n",
       "    <tr>\n",
       "      <th>4</th>\n",
       "      <td>ALB</td>\n",
       "      <td>2008</td>\n",
       "      <td>5</td>\n",
       "      <td>100</td>\n",
       "      <td>1132,6997</td>\n",
       "      <td>7297</td>\n",
       "    </tr>\n",
       "  </tbody>\n",
       "</table>\n",
       "</div>"
      ],
      "text/plain": [
       "  country  year_survey  quantile  nb_quantiles     income gdpppp\n",
       "0     ALB         2008         1           100  728,89795   7297\n",
       "1     ALB         2008         2           100  916,66235   7297\n",
       "2     ALB         2008         3           100   1010,916   7297\n",
       "3     ALB         2008         4           100  1086,9078   7297\n",
       "4     ALB         2008         5           100  1132,6997   7297"
      ]
     },
     "execution_count": 2,
     "metadata": {},
     "output_type": "execute_result"
    }
   ],
   "source": [
    "data = pd.read_csv('data-projet7.csv', decimal =\".\")\n",
    "data.head()"
   ]
  },
  {
   "cell_type": "code",
   "execution_count": 3,
   "metadata": {},
   "outputs": [
    {
     "data": {
      "text/plain": [
       "(11599, 6)"
      ]
     },
     "execution_count": 3,
     "metadata": {},
     "output_type": "execute_result"
    }
   ],
   "source": [
    "data.shape"
   ]
  },
  {
   "cell_type": "code",
   "execution_count": 4,
   "metadata": {},
   "outputs": [
    {
     "name": "stdout",
     "output_type": "stream",
     "text": [
      "La colonne 'country' : False\n",
      "La colonne 'year_survey' : False\n",
      "La colonne 'quantile' : False\n",
      "La colonne 'nb_quantiles' : False\n",
      "La colonne 'income' : False\n",
      "La colonne 'gdpppp' : True\n"
     ]
    }
   ],
   "source": [
    "for i in data.columns:\n",
    "    print(\"La colonne '{}' :\".format(i), any(pd.isna(data[i])))\n"
   ]
  },
  {
   "cell_type": "markdown",
   "metadata": {},
   "source": [
    "<p> Des valeurs NaN sont présentes dans la colonne 'gdpppp' </p>"
   ]
  },
  {
   "cell_type": "code",
   "execution_count": 5,
   "metadata": {},
   "outputs": [],
   "source": [
    "data['gdpppp'] = data['gdpppp'].fillna(0)\n",
    "#Voir après par quoi remplacer, 0 n'étant peut-être pas le bon chiffre"
   ]
  },
  {
   "cell_type": "code",
   "execution_count": 6,
   "metadata": {},
   "outputs": [
    {
     "name": "stdout",
     "output_type": "stream",
     "text": [
      "<class 'pandas.core.frame.DataFrame'>\n",
      "RangeIndex: 11599 entries, 0 to 11598\n",
      "Data columns (total 6 columns):\n",
      "country         11599 non-null object\n",
      "year_survey     11599 non-null int64\n",
      "quantile        11599 non-null int64\n",
      "nb_quantiles    11599 non-null int64\n",
      "income          11599 non-null object\n",
      "gdpppp          11599 non-null object\n",
      "dtypes: int64(3), object(3)\n",
      "memory usage: 543.8+ KB\n"
     ]
    }
   ],
   "source": [
    "data.info()"
   ]
  },
  {
   "cell_type": "markdown",
   "metadata": {},
   "source": [
    "Aucune colonne nulle ; Par contre on peut voir que 'income' et 'gdpppp' sont object et non numeric"
   ]
  },
  {
   "cell_type": "code",
   "execution_count": 7,
   "metadata": {},
   "outputs": [],
   "source": [
    "data['gdpppp'] = data['gdpppp'].astype(str)\n",
    "data['gdpppp'] = data['gdpppp'].replace(\",\", \".\")\n",
    "data['gdpppp'] = [x.replace(',', '.') for x in data['gdpppp']]\n",
    "data['gdpppp'] = pd.to_numeric(data['gdpppp'])\n",
    "\n",
    "data['income'] = data['income'].astype(str)\n",
    "data['income'] = data['income'].replace(\",\", \".\")\n",
    "data['income'] = [x.replace(',', '.') for x in data['income']]\n",
    "data['income'] = pd.to_numeric(data['income'])"
   ]
  },
  {
   "cell_type": "code",
   "execution_count": 8,
   "metadata": {},
   "outputs": [
    {
     "name": "stdout",
     "output_type": "stream",
     "text": [
      "<class 'pandas.core.frame.DataFrame'>\n",
      "RangeIndex: 11599 entries, 0 to 11598\n",
      "Data columns (total 6 columns):\n",
      "country         11599 non-null object\n",
      "year_survey     11599 non-null int64\n",
      "quantile        11599 non-null int64\n",
      "nb_quantiles    11599 non-null int64\n",
      "income          11599 non-null float64\n",
      "gdpppp          11599 non-null float64\n",
      "dtypes: float64(2), int64(3), object(1)\n",
      "memory usage: 543.8+ KB\n"
     ]
    }
   ],
   "source": [
    "data.info()"
   ]
  },
  {
   "cell_type": "markdown",
   "metadata": {},
   "source": [
    "On a bien nos colonnes 'income' et 'gdpppp' en float et plus en object"
   ]
  },
  {
   "cell_type": "code",
   "execution_count": 9,
   "metadata": {},
   "outputs": [
    {
     "data": {
      "text/html": [
       "<div>\n",
       "<style scoped>\n",
       "    .dataframe tbody tr th:only-of-type {\n",
       "        vertical-align: middle;\n",
       "    }\n",
       "\n",
       "    .dataframe tbody tr th {\n",
       "        vertical-align: top;\n",
       "    }\n",
       "\n",
       "    .dataframe thead th {\n",
       "        text-align: right;\n",
       "    }\n",
       "</style>\n",
       "<table border=\"1\" class=\"dataframe\">\n",
       "  <thead>\n",
       "    <tr style=\"text-align: right;\">\n",
       "      <th></th>\n",
       "      <th>year_survey</th>\n",
       "      <th>quantile</th>\n",
       "      <th>nb_quantiles</th>\n",
       "      <th>income</th>\n",
       "      <th>gdpppp</th>\n",
       "    </tr>\n",
       "  </thead>\n",
       "  <tbody>\n",
       "    <tr>\n",
       "      <th>count</th>\n",
       "      <td>11599.000000</td>\n",
       "      <td>11599.000000</td>\n",
       "      <td>11599.0</td>\n",
       "      <td>11599.000000</td>\n",
       "      <td>1.159900e+04</td>\n",
       "    </tr>\n",
       "    <tr>\n",
       "      <th>mean</th>\n",
       "      <td>2007.982757</td>\n",
       "      <td>50.500819</td>\n",
       "      <td>100.0</td>\n",
       "      <td>6069.224260</td>\n",
       "      <td>4.935532e+04</td>\n",
       "    </tr>\n",
       "    <tr>\n",
       "      <th>std</th>\n",
       "      <td>0.909633</td>\n",
       "      <td>28.868424</td>\n",
       "      <td>0.0</td>\n",
       "      <td>9414.185972</td>\n",
       "      <td>3.966582e+05</td>\n",
       "    </tr>\n",
       "    <tr>\n",
       "      <th>min</th>\n",
       "      <td>2004.000000</td>\n",
       "      <td>1.000000</td>\n",
       "      <td>100.0</td>\n",
       "      <td>16.719418</td>\n",
       "      <td>0.000000e+00</td>\n",
       "    </tr>\n",
       "    <tr>\n",
       "      <th>25%</th>\n",
       "      <td>2008.000000</td>\n",
       "      <td>25.500000</td>\n",
       "      <td>100.0</td>\n",
       "      <td>900.685515</td>\n",
       "      <td>2.340000e+03</td>\n",
       "    </tr>\n",
       "    <tr>\n",
       "      <th>50%</th>\n",
       "      <td>2008.000000</td>\n",
       "      <td>51.000000</td>\n",
       "      <td>100.0</td>\n",
       "      <td>2403.244900</td>\n",
       "      <td>7.505000e+03</td>\n",
       "    </tr>\n",
       "    <tr>\n",
       "      <th>75%</th>\n",
       "      <td>2008.000000</td>\n",
       "      <td>75.500000</td>\n",
       "      <td>100.0</td>\n",
       "      <td>7515.420900</td>\n",
       "      <td>1.838850e+04</td>\n",
       "    </tr>\n",
       "    <tr>\n",
       "      <th>max</th>\n",
       "      <td>2011.000000</td>\n",
       "      <td>100.000000</td>\n",
       "      <td>100.0</td>\n",
       "      <td>176928.550000</td>\n",
       "      <td>4.300332e+06</td>\n",
       "    </tr>\n",
       "  </tbody>\n",
       "</table>\n",
       "</div>"
      ],
      "text/plain": [
       "        year_survey      quantile  nb_quantiles         income        gdpppp\n",
       "count  11599.000000  11599.000000       11599.0   11599.000000  1.159900e+04\n",
       "mean    2007.982757     50.500819         100.0    6069.224260  4.935532e+04\n",
       "std        0.909633     28.868424           0.0    9414.185972  3.966582e+05\n",
       "min     2004.000000      1.000000         100.0      16.719418  0.000000e+00\n",
       "25%     2008.000000     25.500000         100.0     900.685515  2.340000e+03\n",
       "50%     2008.000000     51.000000         100.0    2403.244900  7.505000e+03\n",
       "75%     2008.000000     75.500000         100.0    7515.420900  1.838850e+04\n",
       "max     2011.000000    100.000000         100.0  176928.550000  4.300332e+06"
      ]
     },
     "execution_count": 9,
     "metadata": {},
     "output_type": "execute_result"
    }
   ],
   "source": [
    "data.describe()"
   ]
  },
  {
   "cell_type": "markdown",
   "metadata": {},
   "source": [
    "# Mission 1"
   ]
  },
  {
   "cell_type": "markdown",
   "metadata": {},
   "source": [
    "## Années des données utilisées"
   ]
  },
  {
   "cell_type": "markdown",
   "metadata": {},
   "source": [
    "<p> Testons d'abord les données ont bien une année pour chaque pays : </p>"
   ]
  },
  {
   "cell_type": "code",
   "execution_count": 10,
   "metadata": {},
   "outputs": [
    {
     "name": "stdout",
     "output_type": "stream",
     "text": [
      "Le nombre de pays pour l'année 2004 est de : \n",
      "1\n",
      "Le nombre de pays pour l'année 2005 est de : \n",
      "0\n",
      "Le nombre de pays pour l'année 2006 est de : \n",
      "5\n",
      "Le nombre de pays pour l'année 2007 est de : \n",
      "15\n",
      "Le nombre de pays pour l'année 2008 est de : \n",
      "76\n",
      "Le nombre de pays pour l'année 2009 est de : \n",
      "12\n",
      "Le nombre de pays pour l'année 2010 est de : \n",
      "6\n",
      "Le nombre de pays pour l'année 2011 est de : \n",
      "1\n"
     ]
    }
   ],
   "source": [
    "for i in range(2004,2012):\n",
    "    country_year  = data[data['year_survey'] == i]\n",
    "    print(\"Le nombre de pays pour l'année {} est de : \".format(i))\n",
    "    print(len(country_year['country'].unique()))"
   ]
  },
  {
   "cell_type": "markdown",
   "metadata": {},
   "source": [
    "<p> Ce n'est pas le cas, deux solutions s'offrent donc à nous : <br/>\n",
    "<ol><li>Prendre uniquement l'année ayant le plus de pays (ici 2008) </li>\n",
    "    <li>Prendre une année par pays (mais problème dans la véracité des données)</li></ol>\n",
    "</p>"
   ]
  },
  {
   "cell_type": "code",
   "execution_count": 11,
   "metadata": {},
   "outputs": [
    {
     "data": {
      "text/plain": [
       "array([2008, 2009, 2010, 2007, 2006, 2011, 2004], dtype=int64)"
      ]
     },
     "execution_count": 11,
     "metadata": {},
     "output_type": "execute_result"
    }
   ],
   "source": [
    "data['year_survey'].unique()"
   ]
  },
  {
   "cell_type": "markdown",
   "metadata": {},
   "source": [
    "<p> Les années présentes dans les données sont : \n",
    "    <ul><li> 2004 </li>\n",
    "        <li> 2006 </li>\n",
    "        <li> 2007 </li>\n",
    "        <li> 2008 </li>\n",
    "        <li> 2009 </li>\n",
    "        <li> 2010 </li>\n",
    "        <li> 2011 </li> </ul> \n",
    "</p>"
   ]
  },
  {
   "cell_type": "markdown",
   "metadata": {},
   "source": [
    "## Nombre de pays présents"
   ]
  },
  {
   "cell_type": "code",
   "execution_count": 12,
   "metadata": {},
   "outputs": [
    {
     "name": "stdout",
     "output_type": "stream",
     "text": [
      "Le nombre de pays est de :  116 toute année confondue\n"
     ]
    }
   ],
   "source": [
    "print('Le nombre de pays est de : ',len(data['country'].unique()), \"toute année confondue\")"
   ]
  },
  {
   "cell_type": "markdown",
   "metadata": {},
   "source": [
    "## Population couverte par l'analyse (%age de la population mondiale)"
   ]
  },
  {
   "cell_type": "markdown",
   "metadata": {},
   "source": [
    "<p> Pour ce pourcentage nous prendront comme base la population mondiale de chaque année concernée. Nous établierons ensuite la moyenne de toutes ces années. </p>"
   ]
  },
  {
   "cell_type": "code",
   "execution_count": 13,
   "metadata": {},
   "outputs": [
    {
     "data": {
      "text/html": [
       "<div>\n",
       "<style scoped>\n",
       "    .dataframe tbody tr th:only-of-type {\n",
       "        vertical-align: middle;\n",
       "    }\n",
       "\n",
       "    .dataframe tbody tr th {\n",
       "        vertical-align: top;\n",
       "    }\n",
       "\n",
       "    .dataframe thead th {\n",
       "        text-align: right;\n",
       "    }\n",
       "</style>\n",
       "<table border=\"1\" class=\"dataframe\">\n",
       "  <thead>\n",
       "    <tr style=\"text-align: right;\">\n",
       "      <th></th>\n",
       "      <th>Unnamed: 0</th>\n",
       "      <th>Country</th>\n",
       "      <th>Countrycode3</th>\n",
       "      <th>Year</th>\n",
       "      <th>Population</th>\n",
       "      <th>PopCovr_new</th>\n",
       "    </tr>\n",
       "  </thead>\n",
       "  <tbody>\n",
       "    <tr>\n",
       "      <th>0</th>\n",
       "      <td>0</td>\n",
       "      <td>Afghanistan</td>\n",
       "      <td>AFG</td>\n",
       "      <td>2007</td>\n",
       "      <td>26.911530</td>\n",
       "      <td>All</td>\n",
       "    </tr>\n",
       "    <tr>\n",
       "      <th>1</th>\n",
       "      <td>1</td>\n",
       "      <td>Afghanistan</td>\n",
       "      <td>AFG</td>\n",
       "      <td>2008</td>\n",
       "      <td>27.658890</td>\n",
       "      <td>All</td>\n",
       "    </tr>\n",
       "    <tr>\n",
       "      <th>2</th>\n",
       "      <td>2</td>\n",
       "      <td>Albania</td>\n",
       "      <td>ALB</td>\n",
       "      <td>1996</td>\n",
       "      <td>3.092034</td>\n",
       "      <td>All</td>\n",
       "    </tr>\n",
       "    <tr>\n",
       "      <th>3</th>\n",
       "      <td>3</td>\n",
       "      <td>Albania</td>\n",
       "      <td>ALB</td>\n",
       "      <td>2002</td>\n",
       "      <td>3.123112</td>\n",
       "      <td>All</td>\n",
       "    </tr>\n",
       "    <tr>\n",
       "      <th>4</th>\n",
       "      <td>4</td>\n",
       "      <td>Albania</td>\n",
       "      <td>ALB</td>\n",
       "      <td>2005</td>\n",
       "      <td>3.082172</td>\n",
       "      <td>All</td>\n",
       "    </tr>\n",
       "  </tbody>\n",
       "</table>\n",
       "</div>"
      ],
      "text/plain": [
       "   Unnamed: 0      Country Countrycode3  Year  Population PopCovr_new\n",
       "0           0  Afghanistan          AFG  2007   26.911530         All\n",
       "1           1  Afghanistan          AFG  2008   27.658890         All\n",
       "2           2      Albania          ALB  1996    3.092034         All\n",
       "3           3      Albania          ALB  2002    3.123112         All\n",
       "4           4      Albania          ALB  2005    3.082172         All"
      ]
     },
     "execution_count": 13,
     "metadata": {},
     "output_type": "execute_result"
    }
   ],
   "source": [
    "pop = pd.read_csv('pop.csv')\n",
    "pop.head()\n",
    "#A merge avec l'autre df, voir ensuite avec le % de population pour chaque pays"
   ]
  },
  {
   "cell_type": "markdown",
   "metadata": {},
   "source": [
    "## De quel type de quantile s'agit-il "
   ]
  },
  {
   "cell_type": "markdown",
   "metadata": {},
   "source": [
    "<p> Les quantiles utilisés dans les données sont des centiles. <br/>\n",
    "    Le centile nous permet d'être précis dans nos calculs ; Et n'enlève pas la possibilité de prendre plus large (en décile par exemple).\n",
    "</p>"
   ]
  },
  {
   "cell_type": "markdown",
   "metadata": {},
   "source": [
    "## PPP"
   ]
  },
  {
   "cell_type": "markdown",
   "metadata": {},
   "source": [
    "<p> Le PPP (Purchasing Power Parity) permet de prendre en compte non seulement les revenus des habitant mais aussi le coût de la vie dans le pays. <br/>\n",
    "    Il est donc de ce fait beaucoup plus précis sur la richesse des habitants. </p>"
   ]
  },
  {
   "cell_type": "markdown",
   "metadata": {},
   "source": [
    "# Mission 2"
   ]
  },
  {
   "cell_type": "markdown",
   "metadata": {},
   "source": [
    "## Diversité des pays "
   ]
  },
  {
   "cell_type": "code",
   "execution_count": 14,
   "metadata": {},
   "outputs": [],
   "source": [
    "#Définition d'une fonction decile pour transformer les centiles en déciles\n",
    "def decile (value):\n",
    "    if 0<=int(value)<11 :\n",
    "        return int(1)\n",
    "    elif 11<=int(value)<21:\n",
    "        return int(2)\n",
    "    elif 21<=int(value)<31:\n",
    "        return int(3)\n",
    "    elif 31<=int(value)<41:\n",
    "        return int(4) \n",
    "    elif 41<=int(value)<51:\n",
    "        return int(5) \n",
    "    elif 51<=int(value)<61:\n",
    "        return int(6) \n",
    "    elif 61<=int(value)<71:\n",
    "        return int(7) \n",
    "    elif 71<=int(value)<81:\n",
    "        return int(8) \n",
    "    elif 81<=int(value)<91:\n",
    "        return int(9) \n",
    "    elif 91<=int(value)<101:\n",
    "        return int(10) \n",
    "    else:\n",
    "        return 'ERROR'\n",
    "    \n",
    "#Automatisation avec boucle ici ? Voir comment, chronophage à la main"
   ]
  },
  {
   "cell_type": "code",
   "execution_count": 15,
   "metadata": {},
   "outputs": [
    {
     "data": {
      "image/png": "[encoded data removed]",
      "text/plain": [
       "<Figure size 1296x720 with 1 Axes>"
      ]
     },
     "metadata": {
      "needs_background": "light"
     },
     "output_type": "display_data"
    }
   ],
   "source": [
    "np.random.seed(1)\n",
    "sample = np.random.randint(116, size=5)\n",
    "X = data['country'].unique()[sample]\n",
    "sampled_data = data[data.country.isin(X)]\n",
    "\n",
    "sampled_data = sampled_data.reset_index()\n",
    "#On applique la fonction decile au df : \n",
    "sampled_data['decile'] = sampled_data['quantile'].map(decile)\n",
    "\n",
    "sampled_crosstab = pd.crosstab(index=sampled_data[\"decile\"], \n",
    "                           columns=sampled_data[\"country\"], \n",
    "                           values=sampled_data[\"income\"],\n",
    "                          aggfunc = np.mean)\n",
    "\n",
    "sampled_crosstab.plot(kind=\"bar\", figsize=(18,10), stacked=False)\n",
    "plt.title(\"diversité des pays en termes de distribution des revenus\")\n",
    "plt.xlabel(\"Classes de revenus (déciles)\")\n",
    "plt.ylabel(\"Revenu moyen\")\n",
    "plt.yscale('log')\n",
    "plt.xticks(rotation = 'horizontal')\n",
    "plt.yticks(rotation = 'horizontal')\n",
    "#plt.savefig(\"Graphiques/diversité_pays.png\")\n",
    "plt.show()"
   ]
  },
  {
   "cell_type": "markdown",
   "metadata": {},
   "source": [
    "<p> Ici les classes ont été passées en décile et non centile (pour plus de lisibilité), voir si on garde comme ça.</p>"
   ]
  },
  {
   "cell_type": "markdown",
   "metadata": {},
   "source": [
    "## Courbe de Lorenz"
   ]
  },
  {
   "cell_type": "markdown",
   "metadata": {},
   "source": [
    "### Définition de la fonction : "
   ]
  },
  {
   "cell_type": "code",
   "execution_count": 16,
   "metadata": {},
   "outputs": [],
   "source": [
    "def lorenz(df, name=None):\n",
    "    #On prend uniquement les colonnes utiles :\n",
    "    data_gini = df[['country', 'quantile', 'income']]\n",
    "    \n",
    "    #Calcul du coef de gini et courbe de Lorenz :    \n",
    "    for pays in data_gini['country'].unique():\n",
    "        #Gini\n",
    "        ##D'abord trier les valeurs\n",
    "        sorted_df = df['income'][df['country'] == pays].copy()\n",
    "        sorted_df.sort_values()\n",
    "        n = df[df['country'] == pays].size\n",
    "        coef_ = 2. / n\n",
    "        const_ = (n + 1.) / n\n",
    "        weighted_sum = sum([(i+1)*yi for i, yi in enumerate(sorted_df)])\n",
    "        coef = coef_*weighted_sum/(sorted_df.sum()) - const_\n",
    "        \n",
    "        #Courbe de Lorenz\n",
    "        data_lorenz = data_gini[data_gini['country'] == pays]['income'].sort_values()\n",
    "        data_lorenz = data_lorenz.cumsum() / data_lorenz.sum()\n",
    "\n",
    "        fig, ax = plt.subplots(figsize=[6,6])\n",
    "        ## Mise en place de la courbe\n",
    "        ax.scatter(np.arange(data_lorenz.size)/(data_lorenz.size-1)*100, data_lorenz*100, \n",
    "                   marker='x', color='red', s=1)\n",
    "\n",
    "        ## courbe à coéfficient d'égalité : \n",
    "        ax.plot([0,100], [0,100], color='black')\n",
    "        plt.title(\"Courbe de Lorenz : {}\".format(pays))\n",
    "        plt.xlabel(\"Pourcentage de la population\")\n",
    "        plt.ylabel(\"Revenu Moyen\")\n",
    "        #Ajouter une étiquette avec le coefficient de Gini ? \n",
    "        #plt.savefig(\"Graphiques/courbe_de_lorenz_{}.png\".format(pays))\n",
    "        plt.show()"
   ]
  },
  {
   "cell_type": "markdown",
   "metadata": {},
   "source": [
    "<p> Ajouter une étiquette avec l'indice de Gini ? </p>\n",
    "<p> Attention les coef de gini sont négatif, voir en détails pourquoi</p>"
   ]
  },
  {
   "cell_type": "markdown",
   "metadata": {},
   "source": [
    "### Les courbes "
   ]
  },
  {
   "cell_type": "code",
   "execution_count": 17,
   "metadata": {
    "scrolled": true
   },
   "outputs": [
    {
     "data": {
      "image/png": "[encoded data removed]",
      "text/plain": [
       "<Figure size 432x432 with 1 Axes>"
      ]
     },
     "metadata": {
      "needs_background": "light"
     },
     "output_type": "display_data"
    },
    {
     "data": {
      "image/png": "[encoded data removed]",
      "text/plain": [
       "<Figure size 432x432 with 1 Axes>"
      ]
     },
     "metadata": {
      "needs_background": "light"
     },
     "output_type": "display_data"
    },
    {
     "data": {
      "image/png": "[encoded data removed]",
      "text/plain": [
       "<Figure size 432x432 with 1 Axes>"
      ]
     },
     "metadata": {
      "needs_background": "light"
     },
     "output_type": "display_data"
    },
    {
     "data": {
      "image/png": "[encoded data removed]",
      "text/plain": [
       "<Figure size 432x432 with 1 Axes>"
      ]
     },
     "metadata": {
      "needs_background": "light"
     },
     "output_type": "display_data"
    },
    {
     "data": {
      "image/png": "[encoded data removed]",
      "text/plain": [
       "<Figure size 432x432 with 1 Axes>"
      ]
     },
     "metadata": {
      "needs_background": "light"
     },
     "output_type": "display_data"
    }
   ],
   "source": [
    "lorenz(sampled_data)"
   ]
  },
  {
   "cell_type": "markdown",
   "metadata": {},
   "source": [
    "## Evolution de l'indice de Gini au fil des ans "
   ]
  },
  {
   "cell_type": "markdown",
   "metadata": {},
   "source": [
    "<p> Pour cette question nous allons prendre le fichier traité dans le fichier \"indice_gini_pop\" </p>"
   ]
  },
  {
   "cell_type": "code",
   "execution_count": 18,
   "metadata": {},
   "outputs": [
    {
     "data": {
      "text/html": [
       "<div>\n",
       "<style scoped>\n",
       "    .dataframe tbody tr th:only-of-type {\n",
       "        vertical-align: middle;\n",
       "    }\n",
       "\n",
       "    .dataframe tbody tr th {\n",
       "        vertical-align: top;\n",
       "    }\n",
       "\n",
       "    .dataframe thead th {\n",
       "        text-align: right;\n",
       "    }\n",
       "</style>\n",
       "<table border=\"1\" class=\"dataframe\">\n",
       "  <thead>\n",
       "    <tr style=\"text-align: right;\">\n",
       "      <th></th>\n",
       "      <th>Country</th>\n",
       "      <th>Countrycode3</th>\n",
       "      <th>Year</th>\n",
       "      <th>Gini</th>\n",
       "    </tr>\n",
       "  </thead>\n",
       "  <tbody>\n",
       "    <tr>\n",
       "      <th>0</th>\n",
       "      <td>Afghanistan</td>\n",
       "      <td>AFG</td>\n",
       "      <td>2007</td>\n",
       "      <td>29.00</td>\n",
       "    </tr>\n",
       "    <tr>\n",
       "      <th>1</th>\n",
       "      <td>Afghanistan</td>\n",
       "      <td>AFG</td>\n",
       "      <td>2008</td>\n",
       "      <td>27.80</td>\n",
       "    </tr>\n",
       "    <tr>\n",
       "      <th>2</th>\n",
       "      <td>Albania</td>\n",
       "      <td>ALB</td>\n",
       "      <td>1996</td>\n",
       "      <td>28.00</td>\n",
       "    </tr>\n",
       "    <tr>\n",
       "      <th>3</th>\n",
       "      <td>Albania</td>\n",
       "      <td>ALB</td>\n",
       "      <td>2002</td>\n",
       "      <td>31.74</td>\n",
       "    </tr>\n",
       "    <tr>\n",
       "      <th>4</th>\n",
       "      <td>Albania</td>\n",
       "      <td>ALB</td>\n",
       "      <td>2005</td>\n",
       "      <td>30.60</td>\n",
       "    </tr>\n",
       "  </tbody>\n",
       "</table>\n",
       "</div>"
      ],
      "text/plain": [
       "       Country Countrycode3  Year   Gini\n",
       "0  Afghanistan          AFG  2007  29.00\n",
       "1  Afghanistan          AFG  2008  27.80\n",
       "2      Albania          ALB  1996  28.00\n",
       "3      Albania          ALB  2002  31.74\n",
       "4      Albania          ALB  2005  30.60"
      ]
     },
     "execution_count": 18,
     "metadata": {},
     "output_type": "execute_result"
    }
   ],
   "source": [
    "indice_gini = pd.read_csv(\"gini.csv\")\n",
    "indice_gini = indice_gini[['Country', 'Countrycode3', 'Year', 'Gini']]\n",
    "indice_gini.head()"
   ]
  },
  {
   "cell_type": "code",
   "execution_count": 19,
   "metadata": {},
   "outputs": [
    {
     "data": {
      "text/html": [
       "<div>\n",
       "<style scoped>\n",
       "    .dataframe tbody tr th:only-of-type {\n",
       "        vertical-align: middle;\n",
       "    }\n",
       "\n",
       "    .dataframe tbody tr th {\n",
       "        vertical-align: top;\n",
       "    }\n",
       "\n",
       "    .dataframe thead th {\n",
       "        text-align: right;\n",
       "    }\n",
       "</style>\n",
       "<table border=\"1\" class=\"dataframe\">\n",
       "  <thead>\n",
       "    <tr style=\"text-align: right;\">\n",
       "      <th></th>\n",
       "      <th>Country</th>\n",
       "      <th>Countrycode3</th>\n",
       "      <th>Year</th>\n",
       "      <th>Gini</th>\n",
       "    </tr>\n",
       "  </thead>\n",
       "  <tbody>\n",
       "    <tr>\n",
       "      <th>895</th>\n",
       "      <td>Bosnia and Herzegovina</td>\n",
       "      <td>BIH</td>\n",
       "      <td>1991</td>\n",
       "      <td>32.90</td>\n",
       "    </tr>\n",
       "    <tr>\n",
       "      <th>896</th>\n",
       "      <td>Bosnia and Herzegovina</td>\n",
       "      <td>BIH</td>\n",
       "      <td>2001</td>\n",
       "      <td>29.97</td>\n",
       "    </tr>\n",
       "    <tr>\n",
       "      <th>897</th>\n",
       "      <td>Bosnia and Herzegovina</td>\n",
       "      <td>BIH</td>\n",
       "      <td>2004</td>\n",
       "      <td>34.04</td>\n",
       "    </tr>\n",
       "    <tr>\n",
       "      <th>898</th>\n",
       "      <td>Bosnia and Herzegovina</td>\n",
       "      <td>BIH</td>\n",
       "      <td>2007</td>\n",
       "      <td>33.06</td>\n",
       "    </tr>\n",
       "    <tr>\n",
       "      <th>899</th>\n",
       "      <td>Bosnia and Herzegovina</td>\n",
       "      <td>BIH</td>\n",
       "      <td>2011</td>\n",
       "      <td>33.83</td>\n",
       "    </tr>\n",
       "  </tbody>\n",
       "</table>\n",
       "</div>"
      ],
      "text/plain": [
       "                    Country Countrycode3  Year   Gini\n",
       "895  Bosnia and Herzegovina          BIH  1991  32.90\n",
       "896  Bosnia and Herzegovina          BIH  2001  29.97\n",
       "897  Bosnia and Herzegovina          BIH  2004  34.04\n",
       "898  Bosnia and Herzegovina          BIH  2007  33.06\n",
       "899  Bosnia and Herzegovina          BIH  2011  33.83"
      ]
     },
     "execution_count": 19,
     "metadata": {},
     "output_type": "execute_result"
    }
   ],
   "source": [
    "sampled_gini = indice_gini[indice_gini[\"Countrycode3\"].isin(X)]\n",
    "sampled_gini.head()"
   ]
  },
  {
   "cell_type": "code",
   "execution_count": 20,
   "metadata": {},
   "outputs": [
    {
     "data": {
      "image/png": "[encoded data removed]",
      "text/plain": [
       "<Figure size 432x288 with 1 Axes>"
      ]
     },
     "metadata": {
      "needs_background": "light"
     },
     "output_type": "display_data"
    },
    {
     "data": {
      "image/png": "[encoded data removed]",
      "text/plain": [
       "<Figure size 432x288 with 1 Axes>"
      ]
     },
     "metadata": {
      "needs_background": "light"
     },
     "output_type": "display_data"
    },
    {
     "data": {
      "image/png": "[encoded data removed]",
      "text/plain": [
       "<Figure size 432x288 with 1 Axes>"
      ]
     },
     "metadata": {
      "needs_background": "light"
     },
     "output_type": "display_data"
    },
    {
     "data": {
      "image/png": "[encoded data removed]",
      "text/plain": [
       "<Figure size 432x288 with 1 Axes>"
      ]
     },
     "metadata": {
      "needs_background": "light"
     },
     "output_type": "display_data"
    },
    {
     "data": {
      "image/png": "[encoded data removed]",
      "text/plain": [
       "<Figure size 432x288 with 1 Axes>"
      ]
     },
     "metadata": {
      "needs_background": "light"
     },
     "output_type": "display_data"
    }
   ],
   "source": [
    "for pays in sampled_gini['Country'].unique():    \n",
    "    Y = sampled_gini[sampled_gini['Country'] == pays]\n",
    "    plt.scatter(Y['Year'], Y['Gini'])\n",
    "    plt.title(\"Evolution de l'indice de Gini ({})\".format(pays))\n",
    "    plt.xlabel('Année')\n",
    "    plt.ylabel('Gini')\n",
    "    plt.show()"
   ]
  },
  {
   "cell_type": "markdown",
   "metadata": {},
   "source": [
    "## Classement des pays par indice de Gini "
   ]
  },
  {
   "cell_type": "markdown",
   "metadata": {},
   "source": [
    "### Calcul des indices de Gini pour chaque pays "
   ]
  },
  {
   "cell_type": "code",
   "execution_count": 21,
   "metadata": {},
   "outputs": [],
   "source": [
    "gini_coef = []\n",
    "def gini(arr):\n",
    "    for pays in data_gini['country'].unique():\n",
    "        #Gini\n",
    "        ##D'abord trier les valeurs\n",
    "        sorted_df = df['income'][df['country'] == pays].copy()\n",
    "        sorted_df.sort_values()\n",
    "        n = df[df['country'] == pays].size\n",
    "        coef_ = 2. / n\n",
    "        const_ = (n + 1.) / n\n",
    "        weighted_sum = sum([(i+1)*yi for i, yi in enumerate(sorted_df)])\n",
    "        coef = coef_*weighted_sum/(sorted_df.sum()) - const_\n",
    "        gini_coef.append(coef)"
   ]
  },
  {
   "cell_type": "code",
   "execution_count": 22,
   "metadata": {},
   "outputs": [],
   "source": [
    "#Voir en fonction des années, laquelle on prend..."
   ]
  },
  {
   "cell_type": "markdown",
   "metadata": {},
   "source": [
    "# Mission 3"
   ]
  },
  {
   "cell_type": "code",
   "execution_count": null,
   "metadata": {},
   "outputs": [],
   "source": []
  }
 ],
 "metadata": {
  "kernelspec": {
   "display_name": "Python 3",
   "language": "python",
   "name": "python3"
  },
  "language_info": {
   "codemirror_mode": {
    "name": "ipython",
    "version": 3
   },
   "file_extension": ".py",
   "mimetype": "text/x-python",
   "name": "python",
   "nbconvert_exporter": "python",
   "pygments_lexer": "ipython3",
   "version": "3.7.1"
  },
  "toc": {
   "base_numbering": 1,
   "nav_menu": {},
   "number_sections": true,
   "sideBar": true,
   "skip_h1_title": false,
   "title_cell": "Table of Contents",
   "title_sidebar": "Contents",
   "toc_cell": false,
   "toc_position": {},
   "toc_section_display": true,
   "toc_window_display": false
  }
 },
 "nbformat": 4,
 "nbformat_minor": 2
}
