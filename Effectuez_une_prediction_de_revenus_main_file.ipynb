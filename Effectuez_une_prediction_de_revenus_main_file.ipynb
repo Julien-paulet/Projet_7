{
 "cells": [
  {
   "cell_type": "code",
   "execution_count": 1,
   "metadata": {},
   "outputs": [],
   "source": [
    "import numpy as np\n",
    "import pandas as pd\n",
    "import matplotlib.pyplot as plt\n",
    "import seaborn as sns"
   ]
  },
  {
   "cell_type": "code",
   "execution_count": 2,
   "metadata": {},
   "outputs": [
    {
     "data": {
      "text/html": [
       "<div>\n",
       "<style scoped>\n",
       "    .dataframe tbody tr th:only-of-type {\n",
       "        vertical-align: middle;\n",
       "    }\n",
       "\n",
       "    .dataframe tbody tr th {\n",
       "        vertical-align: top;\n",
       "    }\n",
       "\n",
       "    .dataframe thead th {\n",
       "        text-align: right;\n",
       "    }\n",
       "</style>\n",
       "<table border=\"1\" class=\"dataframe\">\n",
       "  <thead>\n",
       "    <tr style=\"text-align: right;\">\n",
       "      <th></th>\n",
       "      <th>country</th>\n",
       "      <th>year_survey</th>\n",
       "      <th>quantile</th>\n",
       "      <th>nb_quantiles</th>\n",
       "      <th>income</th>\n",
       "      <th>gdpppp</th>\n",
       "    </tr>\n",
       "  </thead>\n",
       "  <tbody>\n",
       "    <tr>\n",
       "      <th>0</th>\n",
       "      <td>ALB</td>\n",
       "      <td>2008</td>\n",
       "      <td>1</td>\n",
       "      <td>100</td>\n",
       "      <td>728,89795</td>\n",
       "      <td>7297</td>\n",
       "    </tr>\n",
       "    <tr>\n",
       "      <th>1</th>\n",
       "      <td>ALB</td>\n",
       "      <td>2008</td>\n",
       "      <td>2</td>\n",
       "      <td>100</td>\n",
       "      <td>916,66235</td>\n",
       "      <td>7297</td>\n",
       "    </tr>\n",
       "    <tr>\n",
       "      <th>2</th>\n",
       "      <td>ALB</td>\n",
       "      <td>2008</td>\n",
       "      <td>3</td>\n",
       "      <td>100</td>\n",
       "      <td>1010,916</td>\n",
       "      <td>7297</td>\n",
       "    </tr>\n",
       "    <tr>\n",
       "      <th>3</th>\n",
       "      <td>ALB</td>\n",
       "      <td>2008</td>\n",
       "      <td>4</td>\n",
       "      <td>100</td>\n",
       "      <td>1086,9078</td>\n",
       "      <td>7297</td>\n",
       "    </tr>\n",
       "    <tr>\n",
       "      <th>4</th>\n",
       "      <td>ALB</td>\n",
       "      <td>2008</td>\n",
       "      <td>5</td>\n",
       "      <td>100</td>\n",
       "      <td>1132,6997</td>\n",
       "      <td>7297</td>\n",
       "    </tr>\n",
       "  </tbody>\n",
       "</table>\n",
       "</div>"
      ],
      "text/plain": [
       "  country  year_survey  quantile  nb_quantiles     income gdpppp\n",
       "0     ALB         2008         1           100  728,89795   7297\n",
       "1     ALB         2008         2           100  916,66235   7297\n",
       "2     ALB         2008         3           100   1010,916   7297\n",
       "3     ALB         2008         4           100  1086,9078   7297\n",
       "4     ALB         2008         5           100  1132,6997   7297"
      ]
     },
     "execution_count": 2,
     "metadata": {},
     "output_type": "execute_result"
    }
   ],
   "source": [
    "data = pd.read_csv('data-projet7.csv', decimal =\".\")\n",
    "data.head()"
   ]
  },
  {
   "cell_type": "code",
   "execution_count": 3,
   "metadata": {},
   "outputs": [
    {
     "data": {
      "text/plain": [
       "(11599, 6)"
      ]
     },
     "execution_count": 3,
     "metadata": {},
     "output_type": "execute_result"
    }
   ],
   "source": [
    "data.shape"
   ]
  },
  {
   "cell_type": "code",
   "execution_count": 4,
   "metadata": {},
   "outputs": [
    {
     "name": "stdout",
     "output_type": "stream",
     "text": [
      "La colonne 'country' : False\n",
      "La colonne 'year_survey' : False\n",
      "La colonne 'quantile' : False\n",
      "La colonne 'nb_quantiles' : False\n",
      "La colonne 'income' : False\n",
      "La colonne 'gdpppp' : True\n"
     ]
    }
   ],
   "source": [
    "for i in data.columns:\n",
    "    print(\"La colonne '{}' :\".format(i), any(pd.isna(data[i])))\n"
   ]
  },
  {
   "cell_type": "markdown",
   "metadata": {},
   "source": [
    "<p> Des valeurs NaN sont présentes dans la colonne 'gdpppp' </p>"
   ]
  },
  {
   "cell_type": "code",
   "execution_count": 5,
   "metadata": {},
   "outputs": [],
   "source": [
    "data['gdpppp'] = data['gdpppp'].fillna(0)\n",
    "#Voir après par quoi remplacer, 0 n'étant peut-être pas le bon chiffre"
   ]
  },
  {
   "cell_type": "code",
   "execution_count": 6,
   "metadata": {},
   "outputs": [
    {
     "name": "stdout",
     "output_type": "stream",
     "text": [
      "<class 'pandas.core.frame.DataFrame'>\n",
      "RangeIndex: 11599 entries, 0 to 11598\n",
      "Data columns (total 6 columns):\n",
      "country         11599 non-null object\n",
      "year_survey     11599 non-null int64\n",
      "quantile        11599 non-null int64\n",
      "nb_quantiles    11599 non-null int64\n",
      "income          11599 non-null object\n",
      "gdpppp          11599 non-null object\n",
      "dtypes: int64(3), object(3)\n",
      "memory usage: 543.8+ KB\n"
     ]
    }
   ],
   "source": [
    "data.info()"
   ]
  },
  {
   "cell_type": "markdown",
   "metadata": {},
   "source": [
    "Aucune colonne nulle ; Par contre on peut voir que 'income' et 'gdpppp' sont object et non numeric"
   ]
  },
  {
   "cell_type": "code",
   "execution_count": 7,
   "metadata": {},
   "outputs": [],
   "source": [
    "data['gdpppp'] = data['gdpppp'].astype(str)\n",
    "data['gdpppp'] = data['gdpppp'].replace(\",\", \".\")\n",
    "data['gdpppp'] = [x.replace(',', '.') for x in data['gdpppp']]\n",
    "data['gdpppp'] = pd.to_numeric(data['gdpppp'])\n",
    "\n",
    "data['income'] = data['income'].astype(str)\n",
    "data['income'] = data['income'].replace(\",\", \".\")\n",
    "data['income'] = [x.replace(',', '.') for x in data['income']]\n",
    "data['income'] = pd.to_numeric(data['income'])"
   ]
  },
  {
   "cell_type": "code",
   "execution_count": 8,
   "metadata": {},
   "outputs": [
    {
     "name": "stdout",
     "output_type": "stream",
     "text": [
      "<class 'pandas.core.frame.DataFrame'>\n",
      "RangeIndex: 11599 entries, 0 to 11598\n",
      "Data columns (total 6 columns):\n",
      "country         11599 non-null object\n",
      "year_survey     11599 non-null int64\n",
      "quantile        11599 non-null int64\n",
      "nb_quantiles    11599 non-null int64\n",
      "income          11599 non-null float64\n",
      "gdpppp          11599 non-null float64\n",
      "dtypes: float64(2), int64(3), object(1)\n",
      "memory usage: 543.8+ KB\n"
     ]
    }
   ],
   "source": [
    "data.info()"
   ]
  },
  {
   "cell_type": "markdown",
   "metadata": {},
   "source": [
    "On a bien nos colonnes 'income' et 'gdpppp' en float et plus en object"
   ]
  },
  {
   "cell_type": "code",
   "execution_count": 9,
   "metadata": {},
   "outputs": [
    {
     "data": {
      "text/html": [
       "<div>\n",
       "<style scoped>\n",
       "    .dataframe tbody tr th:only-of-type {\n",
       "        vertical-align: middle;\n",
       "    }\n",
       "\n",
       "    .dataframe tbody tr th {\n",
       "        vertical-align: top;\n",
       "    }\n",
       "\n",
       "    .dataframe thead th {\n",
       "        text-align: right;\n",
       "    }\n",
       "</style>\n",
       "<table border=\"1\" class=\"dataframe\">\n",
       "  <thead>\n",
       "    <tr style=\"text-align: right;\">\n",
       "      <th></th>\n",
       "      <th>year_survey</th>\n",
       "      <th>quantile</th>\n",
       "      <th>nb_quantiles</th>\n",
       "      <th>income</th>\n",
       "      <th>gdpppp</th>\n",
       "    </tr>\n",
       "  </thead>\n",
       "  <tbody>\n",
       "    <tr>\n",
       "      <th>count</th>\n",
       "      <td>11599.000000</td>\n",
       "      <td>11599.000000</td>\n",
       "      <td>11599.0</td>\n",
       "      <td>11599.000000</td>\n",
       "      <td>1.159900e+04</td>\n",
       "    </tr>\n",
       "    <tr>\n",
       "      <th>mean</th>\n",
       "      <td>2007.982757</td>\n",
       "      <td>50.500819</td>\n",
       "      <td>100.0</td>\n",
       "      <td>6069.224260</td>\n",
       "      <td>4.935532e+04</td>\n",
       "    </tr>\n",
       "    <tr>\n",
       "      <th>std</th>\n",
       "      <td>0.909633</td>\n",
       "      <td>28.868424</td>\n",
       "      <td>0.0</td>\n",
       "      <td>9414.185972</td>\n",
       "      <td>3.966582e+05</td>\n",
       "    </tr>\n",
       "    <tr>\n",
       "      <th>min</th>\n",
       "      <td>2004.000000</td>\n",
       "      <td>1.000000</td>\n",
       "      <td>100.0</td>\n",
       "      <td>16.719418</td>\n",
       "      <td>0.000000e+00</td>\n",
       "    </tr>\n",
       "    <tr>\n",
       "      <th>25%</th>\n",
       "      <td>2008.000000</td>\n",
       "      <td>25.500000</td>\n",
       "      <td>100.0</td>\n",
       "      <td>900.685515</td>\n",
       "      <td>2.340000e+03</td>\n",
       "    </tr>\n",
       "    <tr>\n",
       "      <th>50%</th>\n",
       "      <td>2008.000000</td>\n",
       "      <td>51.000000</td>\n",
       "      <td>100.0</td>\n",
       "      <td>2403.244900</td>\n",
       "      <td>7.505000e+03</td>\n",
       "    </tr>\n",
       "    <tr>\n",
       "      <th>75%</th>\n",
       "      <td>2008.000000</td>\n",
       "      <td>75.500000</td>\n",
       "      <td>100.0</td>\n",
       "      <td>7515.420900</td>\n",
       "      <td>1.838850e+04</td>\n",
       "    </tr>\n",
       "    <tr>\n",
       "      <th>max</th>\n",
       "      <td>2011.000000</td>\n",
       "      <td>100.000000</td>\n",
       "      <td>100.0</td>\n",
       "      <td>176928.550000</td>\n",
       "      <td>4.300332e+06</td>\n",
       "    </tr>\n",
       "  </tbody>\n",
       "</table>\n",
       "</div>"
      ],
      "text/plain": [
       "        year_survey      quantile  nb_quantiles         income        gdpppp\n",
       "count  11599.000000  11599.000000       11599.0   11599.000000  1.159900e+04\n",
       "mean    2007.982757     50.500819         100.0    6069.224260  4.935532e+04\n",
       "std        0.909633     28.868424           0.0    9414.185972  3.966582e+05\n",
       "min     2004.000000      1.000000         100.0      16.719418  0.000000e+00\n",
       "25%     2008.000000     25.500000         100.0     900.685515  2.340000e+03\n",
       "50%     2008.000000     51.000000         100.0    2403.244900  7.505000e+03\n",
       "75%     2008.000000     75.500000         100.0    7515.420900  1.838850e+04\n",
       "max     2011.000000    100.000000         100.0  176928.550000  4.300332e+06"
      ]
     },
     "execution_count": 9,
     "metadata": {},
     "output_type": "execute_result"
    }
   ],
   "source": [
    "data.describe()"
   ]
  },
  {
   "cell_type": "markdown",
   "metadata": {},
   "source": [
    "# Mission 1"
   ]
  },
  {
   "cell_type": "markdown",
   "metadata": {},
   "source": [
    "## Années des données utilisées"
   ]
  },
  {
   "cell_type": "markdown",
   "metadata": {},
   "source": [
    "<p> Testons d'abord les données ont bien une année pour chaque pays : </p>"
   ]
  },
  {
   "cell_type": "code",
   "execution_count": 10,
   "metadata": {},
   "outputs": [
    {
     "name": "stdout",
     "output_type": "stream",
     "text": [
      "Le nombre de pays pour l'année 2004 est de : \n",
      "1\n",
      "Le nombre de pays pour l'année 2005 est de : \n",
      "0\n",
      "Le nombre de pays pour l'année 2006 est de : \n",
      "5\n",
      "Le nombre de pays pour l'année 2007 est de : \n",
      "15\n",
      "Le nombre de pays pour l'année 2008 est de : \n",
      "76\n",
      "Le nombre de pays pour l'année 2009 est de : \n",
      "12\n",
      "Le nombre de pays pour l'année 2010 est de : \n",
      "6\n",
      "Le nombre de pays pour l'année 2011 est de : \n",
      "1\n"
     ]
    }
   ],
   "source": [
    "for i in range(2004,2012):\n",
    "    country_year  = data[data['year_survey'] == i]\n",
    "    print(\"Le nombre de pays pour l'année {} est de : \".format(i))\n",
    "    print(len(country_year['country'].unique()))"
   ]
  },
  {
   "cell_type": "markdown",
   "metadata": {},
   "source": [
    "<p> Ce n'est pas le cas, deux solutions s'offrent donc à nous : <br/>\n",
    "<ol><li>Prendre uniquement l'année ayant le plus de pays (ici 2008) </li>\n",
    "    <li>Prendre une année par pays (mais problème dans nombre d'individus)</li></ol>\n",
    "</p>"
   ]
  },
  {
   "cell_type": "markdown",
   "metadata": {},
   "source": [
    "<p> Afin d'éviter les comparaisons d'indice de gini et de population entre plusieurs années, nous prendrons uniquement l'année 2008 pour cette étude.</p>"
   ]
  },
  {
   "cell_type": "code",
   "execution_count": 11,
   "metadata": {},
   "outputs": [],
   "source": [
    "data = data[data['year_survey'] == 2008]"
   ]
  },
  {
   "cell_type": "markdown",
   "metadata": {},
   "source": [
    "## Nombre de pays présents"
   ]
  },
  {
   "cell_type": "code",
   "execution_count": 12,
   "metadata": {},
   "outputs": [
    {
     "name": "stdout",
     "output_type": "stream",
     "text": [
      "Le nombre de pays est de :  76 pour l'année 2008\n"
     ]
    }
   ],
   "source": [
    "print('Le nombre de pays est de : ',len(data['country'].unique()), \"pour l'année 2008\")"
   ]
  },
  {
   "cell_type": "markdown",
   "metadata": {},
   "source": [
    "## Population couverte par l'analyse (%age de la population mondiale)"
   ]
  },
  {
   "cell_type": "markdown",
   "metadata": {},
   "source": [
    "<p> Pour ce pourcentage nous prendront comme base la population mondiale de chaque année concernée. Nous établierons ensuite la moyenne de toutes ces années. </p>"
   ]
  },
  {
   "cell_type": "code",
   "execution_count": 13,
   "metadata": {},
   "outputs": [
    {
     "data": {
      "text/html": [
       "<div>\n",
       "<style scoped>\n",
       "    .dataframe tbody tr th:only-of-type {\n",
       "        vertical-align: middle;\n",
       "    }\n",
       "\n",
       "    .dataframe tbody tr th {\n",
       "        vertical-align: top;\n",
       "    }\n",
       "\n",
       "    .dataframe thead th {\n",
       "        text-align: right;\n",
       "    }\n",
       "</style>\n",
       "<table border=\"1\" class=\"dataframe\">\n",
       "  <thead>\n",
       "    <tr style=\"text-align: right;\">\n",
       "      <th></th>\n",
       "      <th>Country</th>\n",
       "      <th>Countrycode3</th>\n",
       "      <th>Year</th>\n",
       "      <th>Population</th>\n",
       "      <th>PopCovr_new</th>\n",
       "    </tr>\n",
       "  </thead>\n",
       "  <tbody>\n",
       "    <tr>\n",
       "      <th>1</th>\n",
       "      <td>Afghanistan</td>\n",
       "      <td>AFG</td>\n",
       "      <td>2008</td>\n",
       "      <td>27.658890</td>\n",
       "      <td>All</td>\n",
       "    </tr>\n",
       "    <tr>\n",
       "      <th>5</th>\n",
       "      <td>Albania</td>\n",
       "      <td>ALB</td>\n",
       "      <td>2008</td>\n",
       "      <td>2.968026</td>\n",
       "      <td>All</td>\n",
       "    </tr>\n",
       "    <tr>\n",
       "      <th>10</th>\n",
       "      <td>Angola</td>\n",
       "      <td>AGO</td>\n",
       "      <td>2008</td>\n",
       "      <td>19.842251</td>\n",
       "      <td>All</td>\n",
       "    </tr>\n",
       "    <tr>\n",
       "      <th>164</th>\n",
       "      <td>Argentina</td>\n",
       "      <td>ARG</td>\n",
       "      <td>2008</td>\n",
       "      <td>40.381860</td>\n",
       "      <td>All</td>\n",
       "    </tr>\n",
       "    <tr>\n",
       "      <th>239</th>\n",
       "      <td>Armenia</td>\n",
       "      <td>ARM</td>\n",
       "      <td>2008</td>\n",
       "      <td>2.975029</td>\n",
       "      <td>All</td>\n",
       "    </tr>\n",
       "  </tbody>\n",
       "</table>\n",
       "</div>"
      ],
      "text/plain": [
       "         Country Countrycode3  Year  Population PopCovr_new\n",
       "1    Afghanistan          AFG  2008   27.658890         All\n",
       "5        Albania          ALB  2008    2.968026         All\n",
       "10        Angola          AGO  2008   19.842251         All\n",
       "164    Argentina          ARG  2008   40.381860         All\n",
       "239      Armenia          ARM  2008    2.975029         All"
      ]
     },
     "execution_count": 13,
     "metadata": {},
     "output_type": "execute_result"
    }
   ],
   "source": [
    "pop = pd.read_csv('pop.csv')\n",
    "pop = pop[pop['Year'] == 2008]\n",
    "pop = pop[['Country', 'Countrycode3', 'Year', 'Population', 'PopCovr_new']]\n",
    "pop = pop.drop_duplicates()\n",
    "pop.head()\n",
    "#A merge avec l'autre df, voir ensuite avec le % de population pour chaque pays"
   ]
  },
  {
   "cell_type": "code",
   "execution_count": 14,
   "metadata": {},
   "outputs": [
    {
     "data": {
      "text/html": [
       "<div>\n",
       "<style scoped>\n",
       "    .dataframe tbody tr th:only-of-type {\n",
       "        vertical-align: middle;\n",
       "    }\n",
       "\n",
       "    .dataframe tbody tr th {\n",
       "        vertical-align: top;\n",
       "    }\n",
       "\n",
       "    .dataframe thead th {\n",
       "        text-align: right;\n",
       "    }\n",
       "</style>\n",
       "<table border=\"1\" class=\"dataframe\">\n",
       "  <thead>\n",
       "    <tr style=\"text-align: right;\">\n",
       "      <th></th>\n",
       "      <th>code</th>\n",
       "      <th>Country</th>\n",
       "      <th>Population</th>\n",
       "    </tr>\n",
       "  </thead>\n",
       "  <tbody>\n",
       "    <tr>\n",
       "      <th>0</th>\n",
       "      <td>ALB</td>\n",
       "      <td>Albania</td>\n",
       "      <td>2.968026</td>\n",
       "    </tr>\n",
       "    <tr>\n",
       "      <th>1</th>\n",
       "      <td>ARG</td>\n",
       "      <td>Argentina</td>\n",
       "      <td>40.381860</td>\n",
       "    </tr>\n",
       "    <tr>\n",
       "      <th>2</th>\n",
       "      <td>ARM</td>\n",
       "      <td>Armenia</td>\n",
       "      <td>2.975029</td>\n",
       "    </tr>\n",
       "    <tr>\n",
       "      <th>3</th>\n",
       "      <td>AUT</td>\n",
       "      <td>Austria</td>\n",
       "      <td>8.331465</td>\n",
       "    </tr>\n",
       "    <tr>\n",
       "      <th>4</th>\n",
       "      <td>AZE</td>\n",
       "      <td>Azerbaijan</td>\n",
       "      <td>8.868713</td>\n",
       "    </tr>\n",
       "  </tbody>\n",
       "</table>\n",
       "</div>"
      ],
      "text/plain": [
       "  code     Country  Population\n",
       "0  ALB     Albania    2.968026\n",
       "1  ARG   Argentina   40.381860\n",
       "2  ARM     Armenia    2.975029\n",
       "3  AUT     Austria    8.331465\n",
       "4  AZE  Azerbaijan    8.868713"
      ]
     },
     "execution_count": 14,
     "metadata": {},
     "output_type": "execute_result"
    }
   ],
   "source": [
    "data_pop = pd.merge(data, pop, left_on=['country', 'year_survey'], \n",
    "                    right_on=['Countrycode3', 'Year'], how='left')\n",
    "data_pop = data_pop.rename(columns={'country':'code', 'year_survey':'year'})\n",
    "\n",
    "#On ne conserve que les individus dont la population couverte est all\n",
    "data_pop = data_pop[data_pop['PopCovr_new'] == 'All']\n",
    "data_pop = data_pop[['code', 'Country', 'Population']]\n",
    "\n",
    "#On groupby pour avoir une seul ligne par pays\n",
    "data_pop = data_pop.groupby(['code', 'Country', 'Population']).count()\n",
    "data_pop = data_pop.reset_index()\n",
    "\n",
    "data_pop.head()"
   ]
  },
  {
   "cell_type": "markdown",
   "metadata": {},
   "source": [
    "<p> La population totale dans le monde en 2008 était de : 6.766 Milliard selon le site : <br/> <a>https://donnees.banquemondiale.org/indicateur/sp.pop.totl?end=2017&start=2008</a>"
   ]
  },
  {
   "cell_type": "code",
   "execution_count": 15,
   "metadata": {},
   "outputs": [
    {
     "name": "stdout",
     "output_type": "stream",
     "text": [
      "Le pourcentage de population couvert par cette étude est de : 29.0 %\n"
     ]
    }
   ],
   "source": [
    "pop_tot = 6766\n",
    "print(\"Le pourcentage de population couvert par cette étude est de :\", \n",
    "      round(data_pop['Population'].sum()/pop_tot*100), \"%\")"
   ]
  },
  {
   "cell_type": "markdown",
   "metadata": {},
   "source": [
    "## De quel type de quantile s'agit-il "
   ]
  },
  {
   "cell_type": "markdown",
   "metadata": {},
   "source": [
    "<p> Les quantiles utilisés dans les données sont des centiles. <br/>\n",
    "    Le centile nous permet d'être précis dans nos calculs ; Et n'enlève pas la possibilité de prendre plus large (en décile par exemple).\n",
    "</p>"
   ]
  },
  {
   "cell_type": "markdown",
   "metadata": {},
   "source": [
    "## PPP"
   ]
  },
  {
   "cell_type": "markdown",
   "metadata": {},
   "source": [
    "<p> Le PPP (Purchasing Power Parity) permet de prendre en compte non seulement les revenus des habitant mais aussi le coût de la vie dans le pays. <br/>\n",
    "    Il est donc de ce fait beaucoup plus précis sur la richesse des habitants. </p>"
   ]
  },
  {
   "cell_type": "markdown",
   "metadata": {},
   "source": [
    "# Mission 2"
   ]
  },
  {
   "cell_type": "markdown",
   "metadata": {},
   "source": [
    "## Diversité des pays "
   ]
  },
  {
   "cell_type": "code",
   "execution_count": 16,
   "metadata": {},
   "outputs": [],
   "source": [
    "#Définition d'une fonction decile pour transformer les centiles en déciles\n",
    "def decile (value):\n",
    "    if 0<=int(value)<11 :\n",
    "        return int(1)\n",
    "    elif 11<=int(value)<21:\n",
    "        return int(2)\n",
    "    elif 21<=int(value)<31:\n",
    "        return int(3)\n",
    "    elif 31<=int(value)<41:\n",
    "        return int(4) \n",
    "    elif 41<=int(value)<51:\n",
    "        return int(5) \n",
    "    elif 51<=int(value)<61:\n",
    "        return int(6) \n",
    "    elif 61<=int(value)<71:\n",
    "        return int(7) \n",
    "    elif 71<=int(value)<81:\n",
    "        return int(8) \n",
    "    elif 81<=int(value)<91:\n",
    "        return int(9) \n",
    "    elif 91<=int(value)<101:\n",
    "        return int(10) \n",
    "    else:\n",
    "        return 'ERROR'\n",
    "    \n",
    "#Automatisation avec boucle ici ? Voir comment, chronophage à la main"
   ]
  },
  {
   "cell_type": "code",
   "execution_count": 17,
   "metadata": {},
   "outputs": [
    {
     "data": {
      "image/png": "[encoded data removed]",
      "text/plain": [
       "<Figure size 1296x720 with 1 Axes>"
      ]
     },
     "metadata": {
      "needs_background": "light"
     },
     "output_type": "display_data"
    }
   ],
   "source": [
    "np.random.seed(1)\n",
    "sample = np.random.randint(76, size=5)\n",
    "X = data['country'].unique()[sample]\n",
    "sampled_data = data[data.country.isin(X)]\n",
    "\n",
    "sampled_data = sampled_data.reset_index()\n",
    "#On applique la fonction decile au df : \n",
    "sampled_data['decile'] = sampled_data['quantile'].map(decile)\n",
    "\n",
    "sampled_crosstab = pd.crosstab(index=sampled_data[\"decile\"], \n",
    "                           columns=sampled_data[\"country\"], \n",
    "                           values=sampled_data[\"income\"],\n",
    "                          aggfunc = np.mean)\n",
    "#print(sampled_crosstab)\n",
    "sampled_crosstab.plot(kind=\"bar\", figsize=(18,10), stacked=False)\n",
    "plt.title(\"diversité des pays en termes de distribution des revenus\")\n",
    "plt.xlabel(\"Classes de revenus (déciles)\")\n",
    "plt.ylabel(\"Revenu moyen\")\n",
    "plt.yscale('log')\n",
    "plt.xticks(rotation = 'horizontal')\n",
    "plt.yticks(rotation = 'horizontal')\n",
    "#plt.savefig(\"Graphiques/diversité_pays.png\")\n",
    "plt.show()"
   ]
  },
  {
   "cell_type": "markdown",
   "metadata": {},
   "source": [
    "<p> Ici les classes ont été passées en décile et non centile (pour plus de lisibilité), voir si on garde comme ça.</p>"
   ]
  },
  {
   "cell_type": "markdown",
   "metadata": {},
   "source": [
    "## Courbe de Lorenz"
   ]
  },
  {
   "cell_type": "markdown",
   "metadata": {},
   "source": [
    "### Définition de la fonction : "
   ]
  },
  {
   "cell_type": "code",
   "execution_count": 18,
   "metadata": {},
   "outputs": [],
   "source": [
    "def lorenz(df, name=None):\n",
    "    #On prend uniquement les colonnes utiles :\n",
    "    data_gini = df[['country', 'quantile', 'income']]\n",
    "    \n",
    "    #Calcul du coef de gini et courbe de Lorenz : \n",
    "    fig, ax = plt.subplots(figsize=[10,10])\n",
    "    for pays in data_gini['country'].unique():\n",
    "        #Gini\n",
    "        array = data_gini[data_gini['country'] == pays]['income']\n",
    "        array = np.sort(array) #values must be sorted\n",
    "        index = np.arange(1,array.shape[0]+1) #index per array element\n",
    "        n = array.shape[0]#number of array elements\n",
    "        coef = ((np.sum((2 * index - n  - 1) * array)) / (n * np.sum(array)))\n",
    "        \n",
    "        #Courbe de Lorenz\n",
    "        data_lorenz = data_gini[data_gini['country'] == pays]['income'].sort_values()\n",
    "        data_lorenz = data_lorenz.cumsum() / data_lorenz.sum()\n",
    "\n",
    "        ## Mise en place de la courbe\n",
    "        ax.scatter(np.arange(data_lorenz.size)/(data_lorenz.size-1)*100, data_lorenz*100, \n",
    "                   marker='x', s=1, label=pays)\n",
    "\n",
    "        ## courbe à coéfficient d'égalité : \n",
    "        ax.plot([0,100], [0,100], color='black')\n",
    "        plt.title(\"Courbe de Lorenz : {}\".format(pays))\n",
    "        plt.xlabel(\"Pourcentage de la population\")\n",
    "        plt.ylabel(\"Revenu Moyen\")\n",
    "        plt.legend()\n",
    "    #plt.savefig(\"Graphiques/courbe_de_lorenz_{}.png\".format(pays))\n",
    "    plt.show()"
   ]
  },
  {
   "cell_type": "markdown",
   "metadata": {},
   "source": [
    "<p> Attention les coef de gini sont négatif, voir en détails pourquoi</p>\n",
    "<p> Voir comment mettre une couleur pour chaque courbe </p>"
   ]
  },
  {
   "cell_type": "markdown",
   "metadata": {},
   "source": [
    "### Les courbes "
   ]
  },
  {
   "cell_type": "code",
   "execution_count": 19,
   "metadata": {
    "scrolled": false
   },
   "outputs": [
    {
     "data": {
      "image/png": "[encoded data removed]",
      "text/plain": [
       "<Figure size 720x720 with 1 Axes>"
      ]
     },
     "metadata": {
      "needs_background": "light"
     },
     "output_type": "display_data"
    }
   ],
   "source": [
    "lorenz(sampled_data)"
   ]
  },
  {
   "cell_type": "markdown",
   "metadata": {},
   "source": [
    "## Evolution de l'indice de Gini au fil des ans "
   ]
  },
  {
   "cell_type": "markdown",
   "metadata": {},
   "source": [
    "<p> Pour cette question nous allons prendre le fichier traité dans le fichier \"gini\" </p>"
   ]
  },
  {
   "cell_type": "code",
   "execution_count": 20,
   "metadata": {},
   "outputs": [
    {
     "data": {
      "text/html": [
       "<div>\n",
       "<style scoped>\n",
       "    .dataframe tbody tr th:only-of-type {\n",
       "        vertical-align: middle;\n",
       "    }\n",
       "\n",
       "    .dataframe tbody tr th {\n",
       "        vertical-align: top;\n",
       "    }\n",
       "\n",
       "    .dataframe thead th {\n",
       "        text-align: right;\n",
       "    }\n",
       "</style>\n",
       "<table border=\"1\" class=\"dataframe\">\n",
       "  <thead>\n",
       "    <tr style=\"text-align: right;\">\n",
       "      <th></th>\n",
       "      <th>Country</th>\n",
       "      <th>Countrycode3</th>\n",
       "      <th>Year</th>\n",
       "      <th>Gini</th>\n",
       "    </tr>\n",
       "  </thead>\n",
       "  <tbody>\n",
       "    <tr>\n",
       "      <th>0</th>\n",
       "      <td>Afghanistan</td>\n",
       "      <td>AFG</td>\n",
       "      <td>2007</td>\n",
       "      <td>29.00</td>\n",
       "    </tr>\n",
       "    <tr>\n",
       "      <th>1</th>\n",
       "      <td>Afghanistan</td>\n",
       "      <td>AFG</td>\n",
       "      <td>2008</td>\n",
       "      <td>27.80</td>\n",
       "    </tr>\n",
       "    <tr>\n",
       "      <th>2</th>\n",
       "      <td>Albania</td>\n",
       "      <td>ALB</td>\n",
       "      <td>1996</td>\n",
       "      <td>28.00</td>\n",
       "    </tr>\n",
       "    <tr>\n",
       "      <th>3</th>\n",
       "      <td>Albania</td>\n",
       "      <td>ALB</td>\n",
       "      <td>2002</td>\n",
       "      <td>31.74</td>\n",
       "    </tr>\n",
       "    <tr>\n",
       "      <th>4</th>\n",
       "      <td>Albania</td>\n",
       "      <td>ALB</td>\n",
       "      <td>2005</td>\n",
       "      <td>30.60</td>\n",
       "    </tr>\n",
       "  </tbody>\n",
       "</table>\n",
       "</div>"
      ],
      "text/plain": [
       "       Country Countrycode3  Year   Gini\n",
       "0  Afghanistan          AFG  2007  29.00\n",
       "1  Afghanistan          AFG  2008  27.80\n",
       "2      Albania          ALB  1996  28.00\n",
       "3      Albania          ALB  2002  31.74\n",
       "4      Albania          ALB  2005  30.60"
      ]
     },
     "execution_count": 20,
     "metadata": {},
     "output_type": "execute_result"
    }
   ],
   "source": [
    "indice_gini = pd.read_csv(\"gini.csv\")\n",
    "indice_gini = indice_gini[['Country', 'Countrycode3', 'Year', 'Gini']]\n",
    "indice_gini = indice_gini.groupby(['Country','Countrycode3', 'Year']).mean()\n",
    "indice_gini = indice_gini.reset_index()\n",
    "indice_gini.head()"
   ]
  },
  {
   "cell_type": "markdown",
   "metadata": {},
   "source": [
    "Les indices sont ici multipliés par 100, attention si courbes de Lorenz après."
   ]
  },
  {
   "cell_type": "code",
   "execution_count": 21,
   "metadata": {},
   "outputs": [
    {
     "data": {
      "text/html": [
       "<div>\n",
       "<style scoped>\n",
       "    .dataframe tbody tr th:only-of-type {\n",
       "        vertical-align: middle;\n",
       "    }\n",
       "\n",
       "    .dataframe tbody tr th {\n",
       "        vertical-align: top;\n",
       "    }\n",
       "\n",
       "    .dataframe thead th {\n",
       "        text-align: right;\n",
       "    }\n",
       "</style>\n",
       "<table border=\"1\" class=\"dataframe\">\n",
       "  <thead>\n",
       "    <tr style=\"text-align: right;\">\n",
       "      <th></th>\n",
       "      <th>Country</th>\n",
       "      <th>Countrycode3</th>\n",
       "      <th>Year</th>\n",
       "      <th>Gini</th>\n",
       "    </tr>\n",
       "  </thead>\n",
       "  <tbody>\n",
       "    <tr>\n",
       "      <th>371</th>\n",
       "      <td>Brazil</td>\n",
       "      <td>BRA</td>\n",
       "      <td>1958</td>\n",
       "      <td>49.100000</td>\n",
       "    </tr>\n",
       "    <tr>\n",
       "      <th>372</th>\n",
       "      <td>Brazil</td>\n",
       "      <td>BRA</td>\n",
       "      <td>1960</td>\n",
       "      <td>54.184615</td>\n",
       "    </tr>\n",
       "    <tr>\n",
       "      <th>373</th>\n",
       "      <td>Brazil</td>\n",
       "      <td>BRA</td>\n",
       "      <td>1970</td>\n",
       "      <td>57.418182</td>\n",
       "    </tr>\n",
       "    <tr>\n",
       "      <th>374</th>\n",
       "      <td>Brazil</td>\n",
       "      <td>BRA</td>\n",
       "      <td>1972</td>\n",
       "      <td>61.000000</td>\n",
       "    </tr>\n",
       "    <tr>\n",
       "      <th>375</th>\n",
       "      <td>Brazil</td>\n",
       "      <td>BRA</td>\n",
       "      <td>1974</td>\n",
       "      <td>55.300000</td>\n",
       "    </tr>\n",
       "  </tbody>\n",
       "</table>\n",
       "</div>"
      ],
      "text/plain": [
       "    Country Countrycode3  Year       Gini\n",
       "371  Brazil          BRA  1958  49.100000\n",
       "372  Brazil          BRA  1960  54.184615\n",
       "373  Brazil          BRA  1970  57.418182\n",
       "374  Brazil          BRA  1972  61.000000\n",
       "375  Brazil          BRA  1974  55.300000"
      ]
     },
     "execution_count": 21,
     "metadata": {},
     "output_type": "execute_result"
    }
   ],
   "source": [
    "sampled_gini = indice_gini[indice_gini[\"Countrycode3\"].isin(X)]\n",
    "sampled_gini.head()"
   ]
  },
  {
   "cell_type": "code",
   "execution_count": 22,
   "metadata": {},
   "outputs": [
    {
     "data": {
      "image/png": "[encoded data removed]",
      "text/plain": [
       "<Figure size 864x576 with 1 Axes>"
      ]
     },
     "metadata": {
      "needs_background": "light"
     },
     "output_type": "display_data"
    }
   ],
   "source": [
    "plt.figure(figsize=[12,8])\n",
    "for pays in sampled_gini['Country'].unique():    \n",
    "    Y = sampled_gini[sampled_gini['Country'] == pays]\n",
    "    plt.plot(Y['Year'], Y['Gini'], label=pays)\n",
    "    plt.title(\"Evolution de l'indice de Gini (5 Pays)\")\n",
    "    plt.xlabel('Année')\n",
    "    plt.ylabel('Gini')\n",
    "    plt.legend(handlelength = 1)\n",
    "    #On set la limit au min et max des 5 pays pour avoir la même échelle\n",
    "    plt.ylim(sampled_gini['Gini'].min()-3,sampled_gini['Gini'].max()+3)\n",
    "    plt.xlim(Y['Year'].min()-10, Y['Year'].max()+10)\n",
    "#plt.savefig('Graphiques/evolution_gini.png')\n",
    "plt.show()"
   ]
  },
  {
   "cell_type": "markdown",
   "metadata": {},
   "source": [
    "## Classement des pays par indice de Gini "
   ]
  },
  {
   "cell_type": "markdown",
   "metadata": {},
   "source": [
    "### Calcul des indices de Gini pour chaque pays "
   ]
  },
  {
   "cell_type": "markdown",
   "metadata": {},
   "source": [
    "On se sert du fichier indice_gini pour récupérer les indices"
   ]
  },
  {
   "cell_type": "code",
   "execution_count": 23,
   "metadata": {},
   "outputs": [
    {
     "data": {
      "text/html": [
       "<div>\n",
       "<style scoped>\n",
       "    .dataframe tbody tr th:only-of-type {\n",
       "        vertical-align: middle;\n",
       "    }\n",
       "\n",
       "    .dataframe tbody tr th {\n",
       "        vertical-align: top;\n",
       "    }\n",
       "\n",
       "    .dataframe thead th {\n",
       "        text-align: right;\n",
       "    }\n",
       "</style>\n",
       "<table border=\"1\" class=\"dataframe\">\n",
       "  <thead>\n",
       "    <tr style=\"text-align: right;\">\n",
       "      <th></th>\n",
       "      <th>Country</th>\n",
       "      <th>code</th>\n",
       "      <th>annee</th>\n",
       "      <th>quantile</th>\n",
       "      <th>nb_quantiles</th>\n",
       "      <th>income</th>\n",
       "      <th>gdpppp</th>\n",
       "      <th>Gini</th>\n",
       "    </tr>\n",
       "  </thead>\n",
       "  <tbody>\n",
       "    <tr>\n",
       "      <th>0</th>\n",
       "      <td>Albania</td>\n",
       "      <td>ALB</td>\n",
       "      <td>2008</td>\n",
       "      <td>1</td>\n",
       "      <td>100</td>\n",
       "      <td>728.89795</td>\n",
       "      <td>7297.0</td>\n",
       "      <td>29.98</td>\n",
       "    </tr>\n",
       "    <tr>\n",
       "      <th>1</th>\n",
       "      <td>Albania</td>\n",
       "      <td>ALB</td>\n",
       "      <td>2008</td>\n",
       "      <td>2</td>\n",
       "      <td>100</td>\n",
       "      <td>916.66235</td>\n",
       "      <td>7297.0</td>\n",
       "      <td>29.98</td>\n",
       "    </tr>\n",
       "    <tr>\n",
       "      <th>2</th>\n",
       "      <td>Albania</td>\n",
       "      <td>ALB</td>\n",
       "      <td>2008</td>\n",
       "      <td>3</td>\n",
       "      <td>100</td>\n",
       "      <td>1010.91600</td>\n",
       "      <td>7297.0</td>\n",
       "      <td>29.98</td>\n",
       "    </tr>\n",
       "    <tr>\n",
       "      <th>3</th>\n",
       "      <td>Albania</td>\n",
       "      <td>ALB</td>\n",
       "      <td>2008</td>\n",
       "      <td>4</td>\n",
       "      <td>100</td>\n",
       "      <td>1086.90780</td>\n",
       "      <td>7297.0</td>\n",
       "      <td>29.98</td>\n",
       "    </tr>\n",
       "    <tr>\n",
       "      <th>4</th>\n",
       "      <td>Albania</td>\n",
       "      <td>ALB</td>\n",
       "      <td>2008</td>\n",
       "      <td>5</td>\n",
       "      <td>100</td>\n",
       "      <td>1132.69970</td>\n",
       "      <td>7297.0</td>\n",
       "      <td>29.98</td>\n",
       "    </tr>\n",
       "  </tbody>\n",
       "</table>\n",
       "</div>"
      ],
      "text/plain": [
       "   Country code  annee  quantile  nb_quantiles      income  gdpppp   Gini\n",
       "0  Albania  ALB   2008         1           100   728.89795  7297.0  29.98\n",
       "1  Albania  ALB   2008         2           100   916.66235  7297.0  29.98\n",
       "2  Albania  ALB   2008         3           100  1010.91600  7297.0  29.98\n",
       "3  Albania  ALB   2008         4           100  1086.90780  7297.0  29.98\n",
       "4  Albania  ALB   2008         5           100  1132.69970  7297.0  29.98"
      ]
     },
     "execution_count": 23,
     "metadata": {},
     "output_type": "execute_result"
    }
   ],
   "source": [
    "data_gini = pd.merge(data, indice_gini, left_on=['country', 'year_survey'], \n",
    "                     right_on=['Countrycode3', 'Year'], how='left')\n",
    "data_gini = data_gini[['Country', 'country', 'year_survey', \n",
    "                       'quantile', 'nb_quantiles', 'income', \n",
    "                       'gdpppp', 'Gini']]\n",
    "data_gini = data_gini.rename(columns={'country':'code', 'year_survey':'annee'})\n",
    "data_gini.head()"
   ]
  },
  {
   "cell_type": "code",
   "execution_count": 24,
   "metadata": {},
   "outputs": [
    {
     "data": {
      "text/html": [
       "<div>\n",
       "<style scoped>\n",
       "    .dataframe tbody tr th:only-of-type {\n",
       "        vertical-align: middle;\n",
       "    }\n",
       "\n",
       "    .dataframe tbody tr th {\n",
       "        vertical-align: top;\n",
       "    }\n",
       "\n",
       "    .dataframe thead th {\n",
       "        text-align: right;\n",
       "    }\n",
       "</style>\n",
       "<table border=\"1\" class=\"dataframe\">\n",
       "  <thead>\n",
       "    <tr style=\"text-align: right;\">\n",
       "      <th></th>\n",
       "      <th>Country</th>\n",
       "      <th>annee</th>\n",
       "      <th>quantile</th>\n",
       "      <th>nb_quantiles</th>\n",
       "      <th>income</th>\n",
       "      <th>gdpppp</th>\n",
       "      <th>Gini</th>\n",
       "    </tr>\n",
       "    <tr>\n",
       "      <th>code</th>\n",
       "      <th></th>\n",
       "      <th></th>\n",
       "      <th></th>\n",
       "      <th></th>\n",
       "      <th></th>\n",
       "      <th></th>\n",
       "      <th></th>\n",
       "    </tr>\n",
       "  </thead>\n",
       "  <tbody>\n",
       "    <tr>\n",
       "      <th>COD</th>\n",
       "      <td>0</td>\n",
       "      <td>100</td>\n",
       "      <td>100</td>\n",
       "      <td>100</td>\n",
       "      <td>100</td>\n",
       "      <td>100</td>\n",
       "      <td>0</td>\n",
       "    </tr>\n",
       "    <tr>\n",
       "      <th>IRN</th>\n",
       "      <td>0</td>\n",
       "      <td>100</td>\n",
       "      <td>100</td>\n",
       "      <td>100</td>\n",
       "      <td>100</td>\n",
       "      <td>100</td>\n",
       "      <td>0</td>\n",
       "    </tr>\n",
       "    <tr>\n",
       "      <th>IRQ</th>\n",
       "      <td>0</td>\n",
       "      <td>100</td>\n",
       "      <td>100</td>\n",
       "      <td>100</td>\n",
       "      <td>100</td>\n",
       "      <td>100</td>\n",
       "      <td>0</td>\n",
       "    </tr>\n",
       "    <tr>\n",
       "      <th>PAK</th>\n",
       "      <td>0</td>\n",
       "      <td>100</td>\n",
       "      <td>100</td>\n",
       "      <td>100</td>\n",
       "      <td>100</td>\n",
       "      <td>100</td>\n",
       "      <td>0</td>\n",
       "    </tr>\n",
       "    <tr>\n",
       "      <th>XKX</th>\n",
       "      <td>0</td>\n",
       "      <td>100</td>\n",
       "      <td>100</td>\n",
       "      <td>100</td>\n",
       "      <td>100</td>\n",
       "      <td>100</td>\n",
       "      <td>0</td>\n",
       "    </tr>\n",
       "    <tr>\n",
       "      <th>YEM</th>\n",
       "      <td>0</td>\n",
       "      <td>100</td>\n",
       "      <td>100</td>\n",
       "      <td>100</td>\n",
       "      <td>100</td>\n",
       "      <td>100</td>\n",
       "      <td>0</td>\n",
       "    </tr>\n",
       "  </tbody>\n",
       "</table>\n",
       "</div>"
      ],
      "text/plain": [
       "      Country  annee  quantile  nb_quantiles  income  gdpppp  Gini\n",
       "code                                                              \n",
       "COD         0    100       100           100     100     100     0\n",
       "IRN         0    100       100           100     100     100     0\n",
       "IRQ         0    100       100           100     100     100     0\n",
       "PAK         0    100       100           100     100     100     0\n",
       "XKX         0    100       100           100     100     100     0\n",
       "YEM         0    100       100           100     100     100     0"
      ]
     },
     "execution_count": 24,
     "metadata": {},
     "output_type": "execute_result"
    }
   ],
   "source": [
    "data_gini[pd.isna(data_gini['Gini'])].groupby(['code']).count()"
   ]
  },
  {
   "cell_type": "markdown",
   "metadata": {},
   "source": [
    "<p> 6 Pays du fichier n'ont pas d'indice de Gini (indice manquant dans le fichier source). </p>\n",
    "<p> Nous allons donc devoir le calculer directement </p>"
   ]
  },
  {
   "cell_type": "code",
   "execution_count": 25,
   "metadata": {},
   "outputs": [],
   "source": [
    "def calcul_gini(code):\n",
    "    array = data_gini[data_gini['code'] == code]['income']\n",
    "    array = np.sort(array) #values must be sorted\n",
    "    index = np.arange(1,array.shape[0]+1) #index per array element\n",
    "    n = array.shape[0]#number of array elements\n",
    "    return ((np.sum((2 * index - n  - 1) * array)) / (n * np.sum(array)))"
   ]
  },
  {
   "cell_type": "code",
   "execution_count": 26,
   "metadata": {},
   "outputs": [],
   "source": [
    "data_gini.loc[data_gini['code'] == 'COD', 'Gini'] = calcul_gini('COD')\n",
    "data_gini.loc[data_gini['code'] == 'COD', 'Country'] = 'Congo, Democratic republic of the'\n",
    "\n",
    "data_gini.loc[data_gini['code'] == 'IRN', 'Gini'] = calcul_gini('IRN')\n",
    "data_gini.loc[data_gini['code'] == 'IRN', 'Country'] = 'Iran'\n",
    "\n",
    "data_gini.loc[data_gini['code'] == 'IRQ', 'Gini'] = calcul_gini('IRQ')\n",
    "data_gini.loc[data_gini['code'] == 'IRQ', 'Country'] = 'Irak'\n",
    "\n",
    "data_gini.loc[data_gini['code'] == 'PAK', 'Gini'] = calcul_gini('PAK')\n",
    "data_gini.loc[data_gini['code'] == 'PAK', 'Country'] = 'Pakistan'\n",
    "\n",
    "data_gini.loc[data_gini['code'] == 'XKX', 'Gini'] = calcul_gini('XKX')\n",
    "data_gini.loc[data_gini['code'] == 'XKX', 'Country'] = 'Unknown'\n",
    "\n",
    "data_gini.loc[data_gini['code'] == 'YEM', 'Gini'] = calcul_gini('YEM')\n",
    "data_gini.loc[data_gini['code'] == 'YEM', 'Country'] = 'Yemen'\n",
    "\n",
    "#On peut surement le faire avec une boucle, voir ça plus tard"
   ]
  },
  {
   "cell_type": "markdown",
   "metadata": {},
   "source": [
    "#### Moyenne et pays avec le plus bas indice de Gini"
   ]
  },
  {
   "cell_type": "code",
   "execution_count": 27,
   "metadata": {},
   "outputs": [
    {
     "name": "stdout",
     "output_type": "stream",
     "text": [
      "La moyenne de tous les indices est de :  35\n",
      "\n",
      "\n",
      "Voici le df des 5 pays ayant l'indice le plus faible :\n"
     ]
    },
    {
     "data": {
      "text/html": [
       "<div>\n",
       "<style scoped>\n",
       "    .dataframe tbody tr th:only-of-type {\n",
       "        vertical-align: middle;\n",
       "    }\n",
       "\n",
       "    .dataframe tbody tr th {\n",
       "        vertical-align: top;\n",
       "    }\n",
       "\n",
       "    .dataframe thead th {\n",
       "        text-align: right;\n",
       "    }\n",
       "</style>\n",
       "<table border=\"1\" class=\"dataframe\">\n",
       "  <thead>\n",
       "    <tr style=\"text-align: right;\">\n",
       "      <th></th>\n",
       "      <th></th>\n",
       "      <th>annee</th>\n",
       "      <th>quantile</th>\n",
       "      <th>nb_quantiles</th>\n",
       "      <th>income</th>\n",
       "      <th>gdpppp</th>\n",
       "      <th>Gini</th>\n",
       "    </tr>\n",
       "    <tr>\n",
       "      <th>Country</th>\n",
       "      <th>code</th>\n",
       "      <th></th>\n",
       "      <th></th>\n",
       "      <th></th>\n",
       "      <th></th>\n",
       "      <th></th>\n",
       "      <th></th>\n",
       "    </tr>\n",
       "  </thead>\n",
       "  <tbody>\n",
       "    <tr>\n",
       "      <th>Pakistan</th>\n",
       "      <th>PAK</th>\n",
       "      <td>2008.0</td>\n",
       "      <td>50.5</td>\n",
       "      <td>100.0</td>\n",
       "      <td>887.839279</td>\n",
       "      <td>2335.0</td>\n",
       "      <td>0.299937</td>\n",
       "    </tr>\n",
       "    <tr>\n",
       "      <th>Unknown</th>\n",
       "      <th>XKX</th>\n",
       "      <td>2008.0</td>\n",
       "      <td>50.5</td>\n",
       "      <td>100.0</td>\n",
       "      <td>2176.269035</td>\n",
       "      <td>0.0</td>\n",
       "      <td>0.314475</td>\n",
       "    </tr>\n",
       "    <tr>\n",
       "      <th>Irak</th>\n",
       "      <th>IRQ</th>\n",
       "      <td>2008.0</td>\n",
       "      <td>50.5</td>\n",
       "      <td>100.0</td>\n",
       "      <td>1705.512343</td>\n",
       "      <td>3171.0</td>\n",
       "      <td>0.360083</td>\n",
       "    </tr>\n",
       "    <tr>\n",
       "      <th>Yemen</th>\n",
       "      <th>YEM</th>\n",
       "      <td>2008.0</td>\n",
       "      <td>50.5</td>\n",
       "      <td>100.0</td>\n",
       "      <td>1042.635870</td>\n",
       "      <td>2224.0</td>\n",
       "      <td>0.374161</td>\n",
       "    </tr>\n",
       "    <tr>\n",
       "      <th>Iran</th>\n",
       "      <th>IRN</th>\n",
       "      <td>2008.0</td>\n",
       "      <td>50.5</td>\n",
       "      <td>100.0</td>\n",
       "      <td>5832.655501</td>\n",
       "      <td>10446.0</td>\n",
       "      <td>0.434374</td>\n",
       "    </tr>\n",
       "  </tbody>\n",
       "</table>\n",
       "</div>"
      ],
      "text/plain": [
       "                annee  quantile  nb_quantiles       income   gdpppp      Gini\n",
       "Country  code                                                                \n",
       "Pakistan PAK   2008.0      50.5         100.0   887.839279   2335.0  0.299937\n",
       "Unknown  XKX   2008.0      50.5         100.0  2176.269035      0.0  0.314475\n",
       "Irak     IRQ   2008.0      50.5         100.0  1705.512343   3171.0  0.360083\n",
       "Yemen    YEM   2008.0      50.5         100.0  1042.635870   2224.0  0.374161\n",
       "Iran     IRN   2008.0      50.5         100.0  5832.655501  10446.0  0.434374"
      ]
     },
     "execution_count": 27,
     "metadata": {},
     "output_type": "execute_result"
    }
   ],
   "source": [
    "data_gini_sorted_low = data_gini.groupby(['Country', 'code']).mean().sort_values(by='Gini')\n",
    "\n",
    "print(\"La moyenne de tous les indices est de : \", round(data_gini_sorted_low['Gini'].mean()))\n",
    "print(\"\\n\")\n",
    "print(\"Voici le df des 5 pays ayant l'indice le plus faible :\")\n",
    "data_gini_sorted_low[0:5]"
   ]
  },
  {
   "cell_type": "markdown",
   "metadata": {},
   "source": [
    "#### Pays avec le plus haut indice de Gini"
   ]
  },
  {
   "cell_type": "code",
   "execution_count": 28,
   "metadata": {},
   "outputs": [
    {
     "name": "stdout",
     "output_type": "stream",
     "text": [
      "Voici le df des 5 pays ayant l'indice le plus fort :\n"
     ]
    },
    {
     "data": {
      "text/html": [
       "<div>\n",
       "<style scoped>\n",
       "    .dataframe tbody tr th:only-of-type {\n",
       "        vertical-align: middle;\n",
       "    }\n",
       "\n",
       "    .dataframe tbody tr th {\n",
       "        vertical-align: top;\n",
       "    }\n",
       "\n",
       "    .dataframe thead th {\n",
       "        text-align: right;\n",
       "    }\n",
       "</style>\n",
       "<table border=\"1\" class=\"dataframe\">\n",
       "  <thead>\n",
       "    <tr style=\"text-align: right;\">\n",
       "      <th></th>\n",
       "      <th></th>\n",
       "      <th>annee</th>\n",
       "      <th>quantile</th>\n",
       "      <th>nb_quantiles</th>\n",
       "      <th>income</th>\n",
       "      <th>gdpppp</th>\n",
       "      <th>Gini</th>\n",
       "    </tr>\n",
       "    <tr>\n",
       "      <th>Country</th>\n",
       "      <th>code</th>\n",
       "      <th></th>\n",
       "      <th></th>\n",
       "      <th></th>\n",
       "      <th></th>\n",
       "      <th></th>\n",
       "      <th></th>\n",
       "    </tr>\n",
       "  </thead>\n",
       "  <tbody>\n",
       "    <tr>\n",
       "      <th>South Africa</th>\n",
       "      <th>ZAF</th>\n",
       "      <td>2008.0</td>\n",
       "      <td>50.5</td>\n",
       "      <td>100.0</td>\n",
       "      <td>5617.904880</td>\n",
       "      <td>9602.0</td>\n",
       "      <td>64.355000</td>\n",
       "    </tr>\n",
       "    <tr>\n",
       "      <th>Central African Republic</th>\n",
       "      <th>CAF</th>\n",
       "      <td>2008.0</td>\n",
       "      <td>50.5</td>\n",
       "      <td>100.0</td>\n",
       "      <td>811.299901</td>\n",
       "      <td>685.0</td>\n",
       "      <td>56.240000</td>\n",
       "    </tr>\n",
       "    <tr>\n",
       "      <th>Brazil</th>\n",
       "      <th>BRA</th>\n",
       "      <td>2008.0</td>\n",
       "      <td>50.5</td>\n",
       "      <td>100.0</td>\n",
       "      <td>4807.484594</td>\n",
       "      <td>9559.0</td>\n",
       "      <td>55.278333</td>\n",
       "    </tr>\n",
       "    <tr>\n",
       "      <th>Honduras</th>\n",
       "      <th>HND</th>\n",
       "      <td>2008.0</td>\n",
       "      <td>50.5</td>\n",
       "      <td>100.0</td>\n",
       "      <td>3296.268419</td>\n",
       "      <td>3628.0</td>\n",
       "      <td>55.046667</td>\n",
       "    </tr>\n",
       "    <tr>\n",
       "      <th>Colombia</th>\n",
       "      <th>COL</th>\n",
       "      <td>2008.0</td>\n",
       "      <td>50.5</td>\n",
       "      <td>100.0</td>\n",
       "      <td>3547.005276</td>\n",
       "      <td>8185.0</td>\n",
       "      <td>53.760000</td>\n",
       "    </tr>\n",
       "  </tbody>\n",
       "</table>\n",
       "</div>"
      ],
      "text/plain": [
       "                                annee  quantile  nb_quantiles       income  \\\n",
       "Country                  code                                                \n",
       "South Africa             ZAF   2008.0      50.5         100.0  5617.904880   \n",
       "Central African Republic CAF   2008.0      50.5         100.0   811.299901   \n",
       "Brazil                   BRA   2008.0      50.5         100.0  4807.484594   \n",
       "Honduras                 HND   2008.0      50.5         100.0  3296.268419   \n",
       "Colombia                 COL   2008.0      50.5         100.0  3547.005276   \n",
       "\n",
       "                               gdpppp       Gini  \n",
       "Country                  code                     \n",
       "South Africa             ZAF   9602.0  64.355000  \n",
       "Central African Republic CAF    685.0  56.240000  \n",
       "Brazil                   BRA   9559.0  55.278333  \n",
       "Honduras                 HND   3628.0  55.046667  \n",
       "Colombia                 COL   8185.0  53.760000  "
      ]
     },
     "execution_count": 28,
     "metadata": {},
     "output_type": "execute_result"
    }
   ],
   "source": [
    "data_gini_sorted_high = data_gini.groupby(['Country', 'code']).mean().sort_values(by='Gini', ascending=False)\n",
    "\n",
    "print(\"Voici le df des 5 pays ayant l'indice le plus fort :\")\n",
    "data_gini_sorted_high[0:5]"
   ]
  },
  {
   "cell_type": "markdown",
   "metadata": {},
   "source": [
    "#### Position de la France dans le classement :"
   ]
  },
  {
   "cell_type": "code",
   "execution_count": 29,
   "metadata": {},
   "outputs": [
    {
     "data": {
      "text/html": [
       "<div>\n",
       "<style scoped>\n",
       "    .dataframe tbody tr th:only-of-type {\n",
       "        vertical-align: middle;\n",
       "    }\n",
       "\n",
       "    .dataframe tbody tr th {\n",
       "        vertical-align: top;\n",
       "    }\n",
       "\n",
       "    .dataframe thead th {\n",
       "        text-align: right;\n",
       "    }\n",
       "</style>\n",
       "<table border=\"1\" class=\"dataframe\">\n",
       "  <thead>\n",
       "    <tr style=\"text-align: right;\">\n",
       "      <th></th>\n",
       "      <th>Country</th>\n",
       "      <th>code</th>\n",
       "      <th>annee</th>\n",
       "      <th>quantile</th>\n",
       "      <th>nb_quantiles</th>\n",
       "      <th>income</th>\n",
       "      <th>gdpppp</th>\n",
       "      <th>Gini</th>\n",
       "    </tr>\n",
       "  </thead>\n",
       "  <tbody>\n",
       "    <tr>\n",
       "      <th>39</th>\n",
       "      <td>France</td>\n",
       "      <td>FRA</td>\n",
       "      <td>2008.0</td>\n",
       "      <td>50.5</td>\n",
       "      <td>100.0</td>\n",
       "      <td>18309.407545</td>\n",
       "      <td>30357.0</td>\n",
       "      <td>35.12</td>\n",
       "    </tr>\n",
       "  </tbody>\n",
       "</table>\n",
       "</div>"
      ],
      "text/plain": [
       "   Country code   annee  quantile  nb_quantiles        income   gdpppp   Gini\n",
       "39  France  FRA  2008.0      50.5         100.0  18309.407545  30357.0  35.12"
      ]
     },
     "execution_count": 29,
     "metadata": {},
     "output_type": "execute_result"
    }
   ],
   "source": [
    "data_gini_fr = data_gini.groupby(['Country', 'code']).mean().sort_values(by='Gini')\n",
    "data_gini_fr = data_gini_fr.reset_index()\n",
    "\n",
    "data_gini_fr[data_gini_fr['Country'] == 'France']"
   ]
  },
  {
   "cell_type": "markdown",
   "metadata": {},
   "source": [
    "<p> L'index de la France est le 33, elle est donc 34eme dans le classement </p>"
   ]
  },
  {
   "cell_type": "markdown",
   "metadata": {},
   "source": [
    "# Mission 3"
   ]
  },
  {
   "cell_type": "code",
   "execution_count": 30,
   "metadata": {},
   "outputs": [
    {
     "data": {
      "text/html": [
       "<div>\n",
       "<style scoped>\n",
       "    .dataframe tbody tr th:only-of-type {\n",
       "        vertical-align: middle;\n",
       "    }\n",
       "\n",
       "    .dataframe tbody tr th {\n",
       "        vertical-align: top;\n",
       "    }\n",
       "\n",
       "    .dataframe thead th {\n",
       "        text-align: right;\n",
       "    }\n",
       "</style>\n",
       "<table border=\"1\" class=\"dataframe\">\n",
       "  <thead>\n",
       "    <tr style=\"text-align: right;\">\n",
       "      <th></th>\n",
       "      <th>countryname</th>\n",
       "      <th>wbcode</th>\n",
       "      <th>iso3</th>\n",
       "      <th>incgroup2</th>\n",
       "      <th>incgroup4</th>\n",
       "      <th>year</th>\n",
       "      <th>status</th>\n",
       "      <th>parent</th>\n",
       "      <th>child</th>\n",
       "      <th>obs</th>\n",
       "      <th>IGEincome</th>\n",
       "    </tr>\n",
       "  </thead>\n",
       "  <tbody>\n",
       "    <tr>\n",
       "      <th>60</th>\n",
       "      <td>Albania</td>\n",
       "      <td>ALB</td>\n",
       "      <td>ALB</td>\n",
       "      <td>Developing economies</td>\n",
       "      <td>Upper middle income</td>\n",
       "      <td>1970</td>\n",
       "      <td>Retrospective question</td>\n",
       "      <td>avg</td>\n",
       "      <td>all</td>\n",
       "      <td>420.0</td>\n",
       "      <td>0.815874</td>\n",
       "    </tr>\n",
       "    <tr>\n",
       "      <th>61</th>\n",
       "      <td>Albania</td>\n",
       "      <td>ALB</td>\n",
       "      <td>ALB</td>\n",
       "      <td>Developing economies</td>\n",
       "      <td>Upper middle income</td>\n",
       "      <td>1970</td>\n",
       "      <td>Retrospective question</td>\n",
       "      <td>avg</td>\n",
       "      <td>daughter</td>\n",
       "      <td>232.0</td>\n",
       "      <td>0.815874</td>\n",
       "    </tr>\n",
       "    <tr>\n",
       "      <th>62</th>\n",
       "      <td>Albania</td>\n",
       "      <td>ALB</td>\n",
       "      <td>ALB</td>\n",
       "      <td>Developing economies</td>\n",
       "      <td>Upper middle income</td>\n",
       "      <td>1970</td>\n",
       "      <td>Retrospective question</td>\n",
       "      <td>avg</td>\n",
       "      <td>son</td>\n",
       "      <td>188.0</td>\n",
       "      <td>0.815874</td>\n",
       "    </tr>\n",
       "    <tr>\n",
       "      <th>63</th>\n",
       "      <td>Albania</td>\n",
       "      <td>ALB</td>\n",
       "      <td>ALB</td>\n",
       "      <td>Developing economies</td>\n",
       "      <td>Upper middle income</td>\n",
       "      <td>1970</td>\n",
       "      <td>Retrospective question</td>\n",
       "      <td>dad</td>\n",
       "      <td>all</td>\n",
       "      <td>421.0</td>\n",
       "      <td>0.815874</td>\n",
       "    </tr>\n",
       "    <tr>\n",
       "      <th>64</th>\n",
       "      <td>Albania</td>\n",
       "      <td>ALB</td>\n",
       "      <td>ALB</td>\n",
       "      <td>Developing economies</td>\n",
       "      <td>Upper middle income</td>\n",
       "      <td>1970</td>\n",
       "      <td>Retrospective question</td>\n",
       "      <td>dad</td>\n",
       "      <td>daughter</td>\n",
       "      <td>232.0</td>\n",
       "      <td>0.815874</td>\n",
       "    </tr>\n",
       "  </tbody>\n",
       "</table>\n",
       "</div>"
      ],
      "text/plain": [
       "   countryname wbcode iso3             incgroup2            incgroup4  year  \\\n",
       "60     Albania    ALB  ALB  Developing economies  Upper middle income  1970   \n",
       "61     Albania    ALB  ALB  Developing economies  Upper middle income  1970   \n",
       "62     Albania    ALB  ALB  Developing economies  Upper middle income  1970   \n",
       "63     Albania    ALB  ALB  Developing economies  Upper middle income  1970   \n",
       "64     Albania    ALB  ALB  Developing economies  Upper middle income  1970   \n",
       "\n",
       "                    status parent     child    obs  IGEincome  \n",
       "60  Retrospective question    avg       all  420.0   0.815874  \n",
       "61  Retrospective question    avg  daughter  232.0   0.815874  \n",
       "62  Retrospective question    avg       son  188.0   0.815874  \n",
       "63  Retrospective question    dad       all  421.0   0.815874  \n",
       "64  Retrospective question    dad  daughter  232.0   0.815874  "
      ]
     },
     "execution_count": 30,
     "metadata": {},
     "output_type": "execute_result"
    }
   ],
   "source": [
    "elasticite = pd.read_csv('coef_elasticite.csv')\n",
    "elasticite = elasticite.drop(columns=['region', 'Cores2125_MAcatC1', 'Shortfall0611_obs', \n",
    "                                      'Shortfall0611_IGP', 'Shortfall1217_obs', \n",
    "                                      'Shortfall1217_IGP', 'S1', 'S2', 'S3', 'MLD_psu', \n",
    "                                      'survey', 'ThreeGen_IGPgsd', 'All2125_MEANp', \n",
    "                                      'All2125_IGP', 'All2125_IGP', 'All2125_MAcatC1', \n",
    "                                      'Cores2125_MEANp', 'Asher_Q4_IGpri', \n",
    "                                      'ThreeGen_IGPp1', 'ThreeGen_IGPg1', \n",
    "                                      'All2125_MEANc', 'Cores2125_MEANc', \n",
    "                                      'Cores2125_IGP','fragile', 'Q4_IGpri', \n",
    "                                      'BHQ1', 'BHQ2', 'BHQ3', 'BHQ4', 'Q4BH', 'Delta50', \n",
    "                                      'IGP', 'NL1', 'NL2', 'COR', 'MAcatM', 'MAcatC1', \n",
    "                                      'Q4child', 'ThreeGen_obs', 'C3', 'C4', 'C5', \n",
    "                                      'MEANp', 'MEANc', 'SDp', 'SDc', 'P1', 'P2', 'P3', \n",
    "                                      'P4', 'P5', 'C1', 'C2', 'GINIp', 'GINIc', 'cohort'])\n",
    "#Faire ça autrement, ça prend trop de temps de tout enlever à la main comme ça\n",
    "elasticite['IGEincome'] = elasticite['IGEincome'].fillna(0)\n",
    "elasticite = elasticite[elasticite.IGEincome != 0]\n",
    "#elasticite = elasticite.groupby(['countryname', 'year']).mean()\n",
    "elasticite.head()\n",
    "# ? "
   ]
  },
  {
   "cell_type": "markdown",
   "metadata": {},
   "source": [
    "## Définition des fonctions :"
   ]
  },
  {
   "cell_type": "code",
   "execution_count": 31,
   "metadata": {},
   "outputs": [],
   "source": [
    "import scipy.stats as st\n",
    "from collections import Counter "
   ]
  },
  {
   "cell_type": "code",
   "execution_count": 32,
   "metadata": {},
   "outputs": [],
   "source": [
    "#Question 1 à 3 :\n",
    "def generate_incomes(n, pj):\n",
    "    ln_y_parent = st.norm(0,1).rvs(size=n)\n",
    "    \n",
    "    residues = st.norm(0,1).rvs(size=n)\n",
    "    \n",
    "    return np.exp(pj*ln_y_parent + residues), np.exp(ln_y_parent)\n",
    "\n",
    "#Question 4 :\n",
    "#Cette fonction permet de mettre chaque valeur dans son quantile respectif (en fonction du nombre de quantile)\n",
    "def quantiles(l, nb_quantiles):\n",
    "    size = len(l)\n",
    "    l_sorted = l.copy()\n",
    "    l_sorted = l_sorted.sort_values()\n",
    "    quantiles = np.round(np.arange(1, nb_quantiles+1, nb_quantiles/size) -0.5 +1./size)\n",
    "    q_dict = {a:int(b) for a, b in zip(l_sorted, quantiles)}\n",
    "    return pd.Series([q_dict[e] for e in l])\n",
    "\n",
    "#Cette fonction permet d'associer chaque revenu des parents et enfants en une classe de revenus\n",
    "#Selon le nombre de quantile\n",
    "def compute_quantiles(y_child, y_parents, nb_quantiles):\n",
    "    y_child = pd.Series(y_child)\n",
    "    y_parents = pd.Series(y_parents)\n",
    "    c_i_child = quantiles(y_child, nb_quantiles)\n",
    "    c_i_parent = quantiles(y_parents, nb_quantiles)\n",
    "    sample = pd.concat([y_child, y_parents, c_i_child, c_i_parent], axis=1)\n",
    "    sample.columns = ['y_child', 'y_parents', 'c_i_child', 'c_i_parent']\n",
    "    return sample\n",
    "\n",
    "\n",
    "#Question 5 :\n",
    "#Permet un calcul de la distribution de chaque quantile enfant par rapport au quantile parent ? \n",
    "#Refaire la description, pas clair du tout\n",
    "def distribution(counts, nb_quantiles):\n",
    "    distrib = []\n",
    "    total = counts['counts'].sum()\n",
    "    \n",
    "    if total == 0:\n",
    "        return [0] * nb_quantiles\n",
    "    \n",
    "    for q_p in range(1, nb_quantiles+1):\n",
    "        subset = counts[counts.c_i_parent == q_p]\n",
    "        if len(subset):\n",
    "            nb = subset['counts'].values[0]\n",
    "            distrib += [nb/total]\n",
    "        else :\n",
    "            distrib += [0]\n",
    "    \n",
    "    return distrib\n",
    "\n",
    "def conditional_distributions(sample, nb_quantiles):\n",
    "    counts = sample.groupby(['c_i_child', 'c_i_parent']).apply(len)\n",
    "    counts = counts.reset_index()\n",
    "    counts.columns = ['c_i_child', 'c_i_parent', 'counts']\n",
    "    \n",
    "    mat = []\n",
    "    for child_quantile in np.arange(nb_quantiles)+1:\n",
    "        subset = counts[counts.c_i_child == child_quantile]\n",
    "        mat += [distribution(subset, nb_quantiles)]\n",
    "    \n",
    "    return np.array(mat)\n",
    "\n",
    "#Question 6 :\n",
    "def plot_conditional_distributions(p, cd, nb_quantiles):\n",
    "    plt.figure()\n",
    "    cumul = np.array([0]*nb_quantiles)\n",
    "    \n",
    "    for i, child_quantile in enumerate(cd):\n",
    "        plt.bar(np.arange(nb_quantiles)+1, child_quantile, bottom = cumul, \n",
    "                width = 0.95, label = str(i+1) + 'e')\n",
    "        cumul = cumul + np.array(child_quantile)\n",
    "        plt.axis([.5, nb_quantiles*1.3, 0, 1])\n",
    "        plt.title('P='+str(p))\n",
    "        plt.legend()\n",
    "        plt.xlabel('quantile parents')\n",
    "        plt.ylabel('Probabilité du quantile enfant')\n",
    "        plt.show()\n",
    "        \n",
    "def proba_cond(c_i_parent, c_i_child, mat):\n",
    "    return mat[c_i_child, c_i_parent]\n",
    "\n"
   ]
  },
  {
   "cell_type": "markdown",
   "metadata": {},
   "source": [
    "## Question 1 à 6 :"
   ]
  },
  {
   "cell_type": "code",
   "execution_count": 43,
   "metadata": {
    "scrolled": true
   },
   "outputs": [
    {
     "name": "stdout",
     "output_type": "stream",
     "text": [
      "\n",
      "P(c_i_parent = 8 | c_i_child = 5, pj = 0.9) = 0.026\n"
     ]
    }
   ],
   "source": [
    "#Question 1 à 2 :\n",
    "pj = 0.9 \n",
    "nb_quantiles = 100\n",
    "n = 1000*nb_quantiles\n",
    "\n",
    "#Question 3 : \n",
    "y_child, y_parents = generate_incomes(n, pj)\n",
    "\n",
    "#Question 4 :\n",
    "sample = compute_quantiles(y_child, y_parents, nb_quantiles)\n",
    "\n",
    "#Question 5 :\n",
    "cd = conditional_distributions(sample, nb_quantiles)\n",
    "\n",
    "#plot_conditional_distributions(pj, cd, nb_quantiles) #prend beaucoup de temps\n",
    "\n",
    "c_i_child = 5\n",
    "c_i_parent = 8\n",
    "p = proba_cond(c_i_parent, c_i_child, cd)\n",
    "print(\"\\nP(c_i_parent = {} | c_i_child = {}, pj = {}) = {}\".format(c_i_parent, \n",
    "                                                                   c_i_child,pj, p))"
   ]
  },
  {
   "cell_type": "markdown",
   "metadata": {},
   "source": [
    "Passons maintenant au plot stacked_bar ; Pour plus de lisibilité nous choisirons des déciles et non des centiles :"
   ]
  },
  {
   "cell_type": "markdown",
   "metadata": {},
   "source": [
    "## Question 6 (mise en place du stacked bar) :"
   ]
  },
  {
   "cell_type": "code",
   "execution_count": 34,
   "metadata": {},
   "outputs": [],
   "source": [
    "pj_2 = 0.9 \n",
    "nb_quantiles_2 = 10\n",
    "n_2 = 1000*nb_quantiles_2\n",
    "y_child_2, y_parents_2 = generate_incomes(n_2, pj_2)\n",
    "sample_2 = compute_quantiles(y_child_2, y_parents_2, nb_quantiles_2)\n",
    "cd_2 = conditional_distributions(sample_2, nb_quantiles_2)"
   ]
  },
  {
   "cell_type": "code",
   "execution_count": 35,
   "metadata": {},
   "outputs": [
    {
     "data": {
      "image/png": "[encoded data removed]",
      "text/plain": [
       "<Figure size 864x576 with 1 Axes>"
      ]
     },
     "metadata": {
      "needs_background": "light"
     },
     "output_type": "display_data"
    }
   ],
   "source": [
    "cd_df = pd.DataFrame(cd_2, columns = [np.arange(nb_quantiles_2)+1])\n",
    "cd_df = cd_df.T #Voir avec Laura\n",
    "cd_df.columns = np.arange(nb_quantiles_2)+1\n",
    "\n",
    "cd_df.plot(kind=\"bar\", figsize=(12,8), stacked=True, width=0.95)\n",
    "plt.title(\"pj=\"+str(pj_2))\n",
    "plt.xlabel(\"Quantile Parents\")\n",
    "plt.ylabel(\"Probabilité Quantile Enfant\")\n",
    "plt.xticks(rotation = 'horizontal')\n",
    "plt.yticks(rotation = 'horizontal')\n",
    "#plt.savefig(\"Graphiques/barstacked.png\")\n",
    "plt.show()"
   ]
  },
  {
   "cell_type": "markdown",
   "metadata": {},
   "source": [
    "## Question 7 :"
   ]
  },
  {
   "cell_type": "code",
   "execution_count": 36,
   "metadata": {},
   "outputs": [],
   "source": [
    "#On commence par effacer les variables inutiles, on garde les distributions conditionnelles\n",
    "pj = None\n",
    "nb_quantiles = None\n",
    "n = None\n",
    "y_child = None\n",
    "y_parents = None\n",
    "sample = None"
   ]
  },
  {
   "cell_type": "markdown",
   "metadata": {},
   "source": [
    "## Question 8 :"
   ]
  },
  {
   "cell_type": "markdown",
   "metadata": {},
   "source": [
    "<p>Pour cette question on va utiliser le fichier de la WID (donc notre df data_gini).</p>\n",
    "<p>Nous allons créer 499 clones de chaque individus </p>"
   ]
  },
  {
   "cell_type": "code",
   "execution_count": 77,
   "metadata": {},
   "outputs": [
    {
     "data": {
      "text/html": [
       "<div>\n",
       "<style scoped>\n",
       "    .dataframe tbody tr th:only-of-type {\n",
       "        vertical-align: middle;\n",
       "    }\n",
       "\n",
       "    .dataframe tbody tr th {\n",
       "        vertical-align: top;\n",
       "    }\n",
       "\n",
       "    .dataframe thead th {\n",
       "        text-align: right;\n",
       "    }\n",
       "</style>\n",
       "<table border=\"1\" class=\"dataframe\">\n",
       "  <thead>\n",
       "    <tr style=\"text-align: right;\">\n",
       "      <th></th>\n",
       "      <th>code</th>\n",
       "      <th>quantile</th>\n",
       "      <th>income</th>\n",
       "      <th>Gini</th>\n",
       "    </tr>\n",
       "  </thead>\n",
       "  <tbody>\n",
       "    <tr>\n",
       "      <th>0</th>\n",
       "      <td>ALB</td>\n",
       "      <td>1</td>\n",
       "      <td>728.89795</td>\n",
       "      <td>29.98</td>\n",
       "    </tr>\n",
       "    <tr>\n",
       "      <th>7599</th>\n",
       "      <td>ALB</td>\n",
       "      <td>1</td>\n",
       "      <td>728.89795</td>\n",
       "      <td>29.98</td>\n",
       "    </tr>\n",
       "    <tr>\n",
       "      <th>15198</th>\n",
       "      <td>ALB</td>\n",
       "      <td>1</td>\n",
       "      <td>728.89795</td>\n",
       "      <td>29.98</td>\n",
       "    </tr>\n",
       "    <tr>\n",
       "      <th>22797</th>\n",
       "      <td>ALB</td>\n",
       "      <td>1</td>\n",
       "      <td>728.89795</td>\n",
       "      <td>29.98</td>\n",
       "    </tr>\n",
       "    <tr>\n",
       "      <th>30396</th>\n",
       "      <td>ALB</td>\n",
       "      <td>1</td>\n",
       "      <td>728.89795</td>\n",
       "      <td>29.98</td>\n",
       "    </tr>\n",
       "  </tbody>\n",
       "</table>\n",
       "</div>"
      ],
      "text/plain": [
       "      code  quantile     income   Gini\n",
       "0      ALB         1  728.89795  29.98\n",
       "7599   ALB         1  728.89795  29.98\n",
       "15198  ALB         1  728.89795  29.98\n",
       "22797  ALB         1  728.89795  29.98\n",
       "30396  ALB         1  728.89795  29.98"
      ]
     },
     "execution_count": 77,
     "metadata": {},
     "output_type": "execute_result"
    }
   ],
   "source": [
    "data_cloned = data_gini[['code', 'quantile', 'income', 'Gini']]\n",
    "data_cloned = pd.concat([data_cloned]*500, ignore_index=True)\n",
    "data_cloned = data_cloned.sort_values(by=['code', 'quantile'])\n",
    "#On reset les index pour avoir des index qui se suivent\n",
    "#data_cloned = data_cloned.reset_index()\n",
    "#data_cloned = data_cloned[['code', 'quantile', 'income', 'Gini']]\n",
    "data_cloned.head()"
   ]
  },
  {
   "cell_type": "markdown",
   "metadata": {},
   "source": [
    "## Question 9 :"
   ]
  },
  {
   "cell_type": "markdown",
   "metadata": {},
   "source": [
    "<p> On assigne maintenant à chaque individus la classe c_i_parents conformément aux distributions trouvées précédemment </p>"
   ]
  },
  {
   "cell_type": "code",
   "execution_count": 81,
   "metadata": {},
   "outputs": [
    {
     "data": {
      "text/plain": [
       "array([[122. ,  65. ,  39. , ...,   0. ,   0. ,   0. ],\n",
       "       [ 57.5,  47.5,  38. , ...,   0. ,   0. ,   0. ],\n",
       "       [ 40.5,  41. ,  32. , ...,   0. ,   0. ,   0. ],\n",
       "       ...,\n",
       "       [  0. ,   0. ,   0. , ...,  33.5,  43. ,  46.5],\n",
       "       [  0. ,   0. ,   0. , ...,  36.5,  49.5,  62.5],\n",
       "       [  0. ,   0. ,   0. , ...,  44. ,  65.5, 120.5]])"
      ]
     },
     "execution_count": 81,
     "metadata": {},
     "output_type": "execute_result"
    }
   ],
   "source": [
    "#On commence par multiplier la distribution par 500, on a maintenant le nombre d'individus à attribuer\n",
    "#A chaque quantile\n",
    "distrib = cd.copy()\n",
    "distrib = distrib*500\n",
    "#Problème, chiffre à virgule...\n",
    "distrib"
   ]
  },
  {
   "cell_type": "code",
   "execution_count": null,
   "metadata": {},
   "outputs": [],
   "source": [
    "#for pays, quantile in zip(data_cloned['code'], data_cloned['quantile']):\n",
    "    #data_cloned['c_i_parents'] = "
   ]
  },
  {
   "cell_type": "code",
   "execution_count": 89,
   "metadata": {},
   "outputs": [
    {
     "ename": "TypeError",
     "evalue": "list indices must be integers or slices, not tuple",
     "output_type": "error",
     "traceback": [
      "\u001b[1;31m---------------------------------------------------------------------------\u001b[0m",
      "\u001b[1;31mTypeError\u001b[0m                                 Traceback (most recent call last)",
      "\u001b[1;32m<ipython-input-89-b5f8521cc67d>\u001b[0m in \u001b[0;36m<module>\u001b[1;34m\u001b[0m\n\u001b[0;32m      3\u001b[0m \u001b[0mc_i_parents_test\u001b[0m \u001b[1;33m=\u001b[0m \u001b[1;33m[\u001b[0m\u001b[1;33m]\u001b[0m\u001b[1;33m\u001b[0m\u001b[1;33m\u001b[0m\u001b[0m\n\u001b[0;32m      4\u001b[0m \u001b[1;31m#On essaye d'attribuer la valeur 1 de 0 à 122\u001b[0m\u001b[1;33m\u001b[0m\u001b[1;33m\u001b[0m\u001b[1;33m\u001b[0m\u001b[0m\n\u001b[1;32m----> 5\u001b[1;33m \u001b[0mc_i_parents_test\u001b[0m\u001b[1;33m[\u001b[0m\u001b[1;36m0\u001b[0m\u001b[1;33m,\u001b[0m\u001b[0mdistrib\u001b[0m\u001b[1;33m[\u001b[0m\u001b[1;36m0\u001b[0m\u001b[1;33m,\u001b[0m\u001b[1;36m0\u001b[0m\u001b[1;33m]\u001b[0m\u001b[1;33m]\u001b[0m \u001b[1;33m=\u001b[0m \u001b[1;36m1\u001b[0m\u001b[1;33m\u001b[0m\u001b[1;33m\u001b[0m\u001b[0m\n\u001b[0m\u001b[0;32m      6\u001b[0m \u001b[0mc_i_parents_test\u001b[0m\u001b[1;33m\u001b[0m\u001b[1;33m\u001b[0m\u001b[0m\n",
      "\u001b[1;31mTypeError\u001b[0m: list indices must be integers or slices, not tuple"
     ]
    }
   ],
   "source": [
    "test = data_cloned[data_cloned['code'] == 'ALB']\n",
    "test = test[test['quantile'] == 1]\n",
    "c_i_parents_test = []\n",
    "#On essaye d'attribuer la valeur 1 de 0 à 122\n",
    "c_i_parents_test[0,distrib[0,0]] = 1\n",
    "c_i_parents_test"
   ]
  },
  {
   "cell_type": "code",
   "execution_count": null,
   "metadata": {},
   "outputs": [],
   "source": []
  }
 ],
 "metadata": {
  "kernelspec": {
   "display_name": "Python 3",
   "language": "python",
   "name": "python3"
  },
  "language_info": {
   "codemirror_mode": {
    "name": "ipython",
    "version": 3
   },
   "file_extension": ".py",
   "mimetype": "text/x-python",
   "name": "python",
   "nbconvert_exporter": "python",
   "pygments_lexer": "ipython3",
   "version": "3.7.1"
  },
  "toc": {
   "base_numbering": 1,
   "nav_menu": {},
   "number_sections": true,
   "sideBar": true,
   "skip_h1_title": false,
   "title_cell": "Table of Contents",
   "title_sidebar": "Contents",
   "toc_cell": false,
   "toc_position": {},
   "toc_section_display": true,
   "toc_window_display": true
  }
 },
 "nbformat": 4,
 "nbformat_minor": 2
}
